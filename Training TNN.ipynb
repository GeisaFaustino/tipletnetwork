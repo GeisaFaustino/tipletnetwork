{
 "cells": [
  {
   "cell_type": "markdown",
   "metadata": {},
   "source": [
    "# Triplet NN for signature validation using Keras\n",
    "\n",
    "This code is inspired from KinWaiCheuk [github repository](https://github.com/KinWaiCheuk/Triplet-net-keras).\n",
    "For a good intruduction about Triplet net (also know as triplet loss) see [Triplet Loss and Online Triplet Mining in TensorFlow](https://omoindrot.github.io/triplet-loss) by Olivier Moindrot.\n",
    "\n",
    "Here I am using triplet NN to validade signatures. The idea is that:\n",
    "* Two examples of genuine signatures from the same person have their embeddings close together in the embedding space\n",
    "* A genuine signature and a forged one have their embeddings far away.\n",
    "\n",
    "**References:** \n",
    "* [Tensorflow-Signature-Recognition](https://github.com/rmalav15/signature-recognition)\n",
    "* [Triplet Loss - Coursera video](https://www.coursera.org/lecture/convolutional-neural-networks/triplet-loss-HuUtN?utm_source=linkshare&siteID=je6NUbpObpQ-vGHsrqsSjAzy9re5xFJZ7Q&ranEAID=je6NUbpObpQ&utm_content=10&ranMID=40328&ranSiteID=je6NUbpObpQ-vGHsrqsSjAzy9re5xFJZ7Q&utm_campaign=je6NUbpObpQ&utm_medium=partners)\n",
    "* [How to Save and Load Your Keras Deep Learning Model](https://machinelearningmastery.com/save-load-keras-deep-learning-models/)"
   ]
  },
  {
   "cell_type": "markdown",
   "metadata": {},
   "source": [
    "## Downloading and extracting dataset"
   ]
  },
  {
   "cell_type": "code",
   "execution_count": null,
   "metadata": {},
   "outputs": [],
   "source": [
    "! wget https://cedar.buffalo.edu/NIJ/data/signatures.rar -q --show-progress"
   ]
  },
  {
   "cell_type": "code",
   "execution_count": null,
   "metadata": {},
   "outputs": [],
   "source": [
    "! unrar x signatures.rar"
   ]
  },
  {
   "cell_type": "markdown",
   "metadata": {},
   "source": [
    "## Required libs"
   ]
  },
  {
   "cell_type": "code",
   "execution_count": 1,
   "metadata": {},
   "outputs": [],
   "source": [
    "import cv2\n",
    "import pandas as pd\n",
    "import numpy as np\n",
    "from matplotlib import pyplot as plt\n",
    "from tqdm import tqdm"
   ]
  },
  {
   "cell_type": "code",
   "execution_count": 2,
   "metadata": {},
   "outputs": [
    {
     "name": "stdout",
     "output_type": "stream",
     "text": [
      "Keras 2.1.5\n",
      "Tensorflow 1.12.0\n"
     ]
    },
    {
     "name": "stderr",
     "output_type": "stream",
     "text": [
      "Using TensorFlow backend.\n"
     ]
    }
   ],
   "source": [
    "from tensorflow.keras.layers import Input, Dense, Conv2D, Flatten, MaxPooling2D, Dropout, concatenate, BatchNormalization\n",
    "from tensorflow.keras.models import Model, Sequential\n",
    "from tensorflow.keras.regularizers import l2\n",
    "from tensorflow.keras import backend as K\n",
    "from tensorflow.keras.optimizers import SGD,Adam\n",
    "from tensorflow.keras.losses import binary_crossentropy\n",
    "\n",
    "import keras\n",
    "import tensorflow as tf\n",
    "\n",
    "print('Keras', keras.__version__)\n",
    "print('Tensorflow', tf.__version__)"
   ]
  },
  {
   "cell_type": "code",
   "execution_count": 3,
   "metadata": {},
   "outputs": [
    {
     "name": "stdout",
     "output_type": "stream",
     "text": [
      "[name: \"/device:CPU:0\"\n",
      "device_type: \"CPU\"\n",
      "memory_limit: 268435456\n",
      "locality {\n",
      "}\n",
      "incarnation: 7438340513098088444\n",
      ", name: \"/device:XLA_GPU:0\"\n",
      "device_type: \"XLA_GPU\"\n",
      "memory_limit: 17179869184\n",
      "locality {\n",
      "}\n",
      "incarnation: 16117478182665119839\n",
      "physical_device_desc: \"device: XLA_GPU device\"\n",
      ", name: \"/device:XLA_CPU:0\"\n",
      "device_type: \"XLA_CPU\"\n",
      "memory_limit: 17179869184\n",
      "locality {\n",
      "}\n",
      "incarnation: 1425896877825667038\n",
      "physical_device_desc: \"device: XLA_CPU device\"\n",
      ", name: \"/device:GPU:0\"\n",
      "device_type: \"GPU\"\n",
      "memory_limit: 11281927373\n",
      "locality {\n",
      "  bus_id: 1\n",
      "  links {\n",
      "  }\n",
      "}\n",
      "incarnation: 2381110276871932694\n",
      "physical_device_desc: \"device: 0, name: Tesla K80, pci bus id: 7fb7:00:00.0, compute capability: 3.7\"\n",
      "]\n"
     ]
    }
   ],
   "source": [
    "from tensorflow.python.client import device_lib\n",
    "print(device_lib.list_local_devices())"
   ]
  },
  {
   "cell_type": "code",
   "execution_count": 4,
   "metadata": {},
   "outputs": [
    {
     "data": {
      "text/plain": [
       "['/job:localhost/replica:0/task:0/device:GPU:0']"
      ]
     },
     "execution_count": 4,
     "metadata": {},
     "output_type": "execute_result"
    }
   ],
   "source": [
    "# Check if keras(>=2.1.1) is using GPU:\n",
    "from keras import backend as K\n",
    "K.tensorflow_backend._get_available_gpus()"
   ]
  },
  {
   "cell_type": "markdown",
   "metadata": {},
   "source": [
    "## Global parameters"
   ]
  },
  {
   "cell_type": "code",
   "execution_count": 5,
   "metadata": {},
   "outputs": [],
   "source": [
    "IMAGE_SHAPE = (128, 128)\n",
    "\n",
    "BATCH_SIZE = 25\n",
    "EPOCHS = 50"
   ]
  },
  {
   "cell_type": "markdown",
   "metadata": {},
   "source": [
    "## Loading dataset"
   ]
  },
  {
   "cell_type": "code",
   "execution_count": 6,
   "metadata": {},
   "outputs": [],
   "source": [
    "gen_sign_path = 'signatures/full_org/'\n",
    "for_sign_path = 'signatures/full_forg/'"
   ]
  },
  {
   "cell_type": "code",
   "execution_count": 7,
   "metadata": {},
   "outputs": [],
   "source": [
    "training_sign = pd.read_csv( 'signatures/X_train.csv' )\n",
    "testing_sign = pd.read_csv( 'signatures/X_test.csv' )"
   ]
  },
  {
   "cell_type": "code",
   "execution_count": 8,
   "metadata": {},
   "outputs": [
    {
     "data": {
      "text/html": [
       "<div>\n",
       "<style scoped>\n",
       "    .dataframe tbody tr th:only-of-type {\n",
       "        vertical-align: middle;\n",
       "    }\n",
       "\n",
       "    .dataframe tbody tr th {\n",
       "        vertical-align: top;\n",
       "    }\n",
       "\n",
       "    .dataframe thead th {\n",
       "        text-align: right;\n",
       "    }\n",
       "</style>\n",
       "<table border=\"1\" class=\"dataframe\">\n",
       "  <thead>\n",
       "    <tr style=\"text-align: right;\">\n",
       "      <th></th>\n",
       "      <th>Anchor</th>\n",
       "      <th>Positive</th>\n",
       "      <th>Negative</th>\n",
       "    </tr>\n",
       "  </thead>\n",
       "  <tbody>\n",
       "    <tr>\n",
       "      <th>0</th>\n",
       "      <td>original_14_17.png</td>\n",
       "      <td>original_14_1.png</td>\n",
       "      <td>forgeries_14_1.png</td>\n",
       "    </tr>\n",
       "    <tr>\n",
       "      <th>1</th>\n",
       "      <td>original_6_4.png</td>\n",
       "      <td>original_6_5.png</td>\n",
       "      <td>forgeries_6_5.png</td>\n",
       "    </tr>\n",
       "    <tr>\n",
       "      <th>2</th>\n",
       "      <td>original_17_8.png</td>\n",
       "      <td>original_17_12.png</td>\n",
       "      <td>forgeries_17_12.png</td>\n",
       "    </tr>\n",
       "    <tr>\n",
       "      <th>3</th>\n",
       "      <td>original_42_3.png</td>\n",
       "      <td>original_42_14.png</td>\n",
       "      <td>forgeries_42_14.png</td>\n",
       "    </tr>\n",
       "    <tr>\n",
       "      <th>4</th>\n",
       "      <td>original_1_18.png</td>\n",
       "      <td>original_1_10.png</td>\n",
       "      <td>forgeries_1_10.png</td>\n",
       "    </tr>\n",
       "  </tbody>\n",
       "</table>\n",
       "</div>"
      ],
      "text/plain": [
       "               Anchor            Positive             Negative\n",
       "0  original_14_17.png   original_14_1.png   forgeries_14_1.png\n",
       "1    original_6_4.png    original_6_5.png    forgeries_6_5.png\n",
       "2   original_17_8.png  original_17_12.png  forgeries_17_12.png\n",
       "3   original_42_3.png  original_42_14.png  forgeries_42_14.png\n",
       "4   original_1_18.png   original_1_10.png   forgeries_1_10.png"
      ]
     },
     "execution_count": 8,
     "metadata": {},
     "output_type": "execute_result"
    }
   ],
   "source": [
    "training_sign.head()"
   ]
  },
  {
   "cell_type": "code",
   "execution_count": 9,
   "metadata": {},
   "outputs": [
    {
     "name": "stdout",
     "output_type": "stream",
     "text": [
      "training_sign.shape: (20341, 3)\n",
      "testing_sign.shape: (10019, 3)\n"
     ]
    }
   ],
   "source": [
    "print( 'training_sign.shape:', training_sign.shape )\n",
    "print( 'testing_sign.shape:', testing_sign.shape )"
   ]
  },
  {
   "cell_type": "markdown",
   "metadata": {},
   "source": [
    "## Method for processing input image"
   ]
  },
  {
   "cell_type": "code",
   "execution_count": 10,
   "metadata": {},
   "outputs": [],
   "source": [
    "def processing_image( image_path, image_shape ):\n",
    "    '''\n",
    "    Method for generating input image\n",
    "    Args:\n",
    "        image_path - full path for image\n",
    "        image_shape - tuple (w, h) with new image width and hight\n",
    "    Return:\n",
    "        processed_image - a binary image with size (w, h)\n",
    "    '''\n",
    "    # Read image as grayscale\n",
    "    image = cv2.imread( image_path, cv2.IMREAD_GRAYSCALE )\n",
    "    \n",
    "    # Binarize image through Otsu's thresholding. \n",
    "    # Background will be back and signature will be white.\n",
    "    _, image_bin = cv2.threshold( image, 0, 255, cv2.THRESH_BINARY_INV + cv2.THRESH_OTSU )\n",
    "    \n",
    "    # Compute signature bounding box\n",
    "    points = cv2.findNonZero( image_bin )\n",
    "    x, y, w, h = cv2.boundingRect( points )\n",
    "    \n",
    "    # Crop image according to boundingbox\n",
    "    proc_image = image_bin[y:y+h, x:x+w]\n",
    "    \n",
    "    resized_image = cv2.resize( proc_image, image_shape )\n",
    "    \n",
    "    return resized_image"
   ]
  },
  {
   "cell_type": "markdown",
   "metadata": {},
   "source": [
    "## Creating images for training and testing"
   ]
  },
  {
   "cell_type": "code",
   "execution_count": 11,
   "metadata": {},
   "outputs": [],
   "source": [
    "def generate_images_array( images_name_df ):\n",
    "    \n",
    "    '''\n",
    "    Method for generating a array of triplet images (anchor, positive, negative)\n",
    "    '''\n",
    "    # List of triplet signature images (anchor, positive, negative)\n",
    "    images_list = [] \n",
    "\n",
    "    for index, row in tqdm( images_name_df.iterrows() ):\n",
    "        \n",
    "        anchor = processing_image( gen_sign_path + row['Anchor'], IMAGE_SHAPE )   \n",
    "        positive = processing_image( gen_sign_path + row['Positive'], IMAGE_SHAPE )   \n",
    "        negative = processing_image( for_sign_path + row['Negative'], IMAGE_SHAPE )   \n",
    "    \n",
    "        images_list.append( (anchor/255., positive/255., negative/255.) )\n",
    "    \n",
    "    return np.asarray( images_list )"
   ]
  },
  {
   "cell_type": "code",
   "execution_count": 12,
   "metadata": {},
   "outputs": [
    {
     "name": "stderr",
     "output_type": "stream",
     "text": [
      "20341it [03:19, 101.77it/s]\n",
      "10019it [01:35, 104.57it/s]\n"
     ]
    }
   ],
   "source": [
    "X_train = generate_images_array( training_sign )\n",
    "X_test = generate_images_array( testing_sign )"
   ]
  },
  {
   "cell_type": "code",
   "execution_count": 13,
   "metadata": {},
   "outputs": [
    {
     "name": "stdout",
     "output_type": "stream",
     "text": [
      "X_train.shape: (20341, 3, 128, 128)\n",
      "X_test.shape: (10019, 3, 128, 128)\n"
     ]
    }
   ],
   "source": [
    "print( 'X_train.shape:', X_train.shape )\n",
    "print( 'X_test.shape:', X_test.shape )"
   ]
  },
  {
   "cell_type": "markdown",
   "metadata": {},
   "source": [
    "## Computing triplet loss\n",
    "\n",
    "$L = max( d(a,p) − d(a,n) + margin, 0 )$"
   ]
  },
  {
   "cell_type": "code",
   "execution_count": 14,
   "metadata": {},
   "outputs": [],
   "source": [
    "def triplet_loss( labels, embedings, marging = 0.4 ):\n",
    "    \"\"\"\n",
    "    Implementation of the triplet loss function\n",
    "    Args:\n",
    "        labels -- true labels, required when you define a loss in Keras. In fact, we don't need it in this function.\n",
    "        embedings -- python list containing three objects:\n",
    "                  anchor   -- the embedings for the anchor data\n",
    "                  positive -- the embedings for the positive data (similar to anchor)\n",
    "                  negative -- the embedings for the negative data (different from anchor)\n",
    "    Returns:\n",
    "    loss -- real number, value of the loss\n",
    "    \"\"\"\n",
    "    \n",
    "    lenght = embedings.shape.as_list()[-1]\n",
    "    \n",
    "    anchor   = embedings[:, 0               : int(lenght*1/3) ]\n",
    "    positive = embedings[:, int(lenght*1/3) : int(lenght*2/3) ]\n",
    "    negative = embedings[:, int(lenght*2/3) : int(lenght*3/3) ]\n",
    "\n",
    "    # distance between the anchor and the positive\n",
    "    positive_dist = K.sum( K.square(anchor - positive), axis = 1 )\n",
    "\n",
    "    # distance between the anchor and the negative\n",
    "    negative_dist = K.sum( K.square(anchor - negative), axis = 1 )\n",
    "\n",
    "    # compute loss\n",
    "    loss = K.maximum( (positive_dist - negative_dist + marging), 0.0 )\n",
    " \n",
    "    return loss"
   ]
  },
  {
   "cell_type": "markdown",
   "metadata": {},
   "source": [
    "## Creading network and training model"
   ]
  },
  {
   "cell_type": "code",
   "execution_count": 15,
   "metadata": {},
   "outputs": [],
   "source": [
    "def create_base_network( input_dimensions ):\n",
    "    \"\"\"\n",
    "    Base network to be shared.\n",
    "    \"\"\"\n",
    "    embedding_size = 128\n",
    "    input_img_shape = ( input_dimensions[0], input_dimensions[1], input_dimensions[2] )\n",
    "    \n",
    "    model = Sequential()\n",
    "    model.add( Conv2D( 256, kernel_size = 7, activation = 'relu', input_shape = input_img_shape, padding = 'same', name = 'conv1') )\n",
    "    model.add( MaxPooling2D( pool_size = (2,2), strides = (2,2), padding = 'same', name = 'pool1') )\n",
    "    model.add( Conv2D( 512, kernel_size = 5, activation = 'relu', padding = 'same', name = 'conv2') )\n",
    "    model.add( MaxPooling2D( pool_size = (2,2), strides = (2,2), padding = 'same', name = 'pool2') )\n",
    "    model.add( Flatten( name = 'flatten') )\n",
    "    model.add( Dense( embedding_size, name = 'embeddings') )\n",
    "    model.add( BatchNormalization() )\n",
    "    \n",
    "    model.summary()\n",
    "    \n",
    "    return model"
   ]
  },
  {
   "cell_type": "code",
   "execution_count": null,
   "metadata": {},
   "outputs": [],
   "source": []
  },
  {
   "cell_type": "code",
   "execution_count": 16,
   "metadata": {},
   "outputs": [
    {
     "name": "stdout",
     "output_type": "stream",
     "text": [
      "_________________________________________________________________\n",
      "Layer (type)                 Output Shape              Param #   \n",
      "=================================================================\n",
      "conv1 (Conv2D)               (None, 128, 128, 256)     12800     \n",
      "_________________________________________________________________\n",
      "pool1 (MaxPooling2D)         (None, 64, 64, 256)       0         \n",
      "_________________________________________________________________\n",
      "conv2 (Conv2D)               (None, 64, 64, 512)       3277312   \n",
      "_________________________________________________________________\n",
      "pool2 (MaxPooling2D)         (None, 32, 32, 512)       0         \n",
      "_________________________________________________________________\n",
      "flatten (Flatten)            (None, 524288)            0         \n",
      "_________________________________________________________________\n",
      "embeddings (Dense)           (None, 128)               67108992  \n",
      "_________________________________________________________________\n",
      "batch_normalization (BatchNo (None, 128)               512       \n",
      "=================================================================\n",
      "Total params: 70,399,616\n",
      "Trainable params: 70,399,360\n",
      "Non-trainable params: 256\n",
      "_________________________________________________________________\n"
     ]
    }
   ],
   "source": [
    "adam_optim = Adam(lr=0.0001, beta_1=0.9, beta_2=0.999)\n",
    "\n",
    "anchor_input   = Input( (IMAGE_SHAPE[0], IMAGE_SHAPE[1], 1, ), name = 'anchor_input' )\n",
    "positive_input = Input( (IMAGE_SHAPE[0], IMAGE_SHAPE[1], 1, ), name = 'positive_input' )\n",
    "negative_input = Input( (IMAGE_SHAPE[0], IMAGE_SHAPE[1], 1, ), name = 'negative_input' )\n",
    "\n",
    "# Shared embedding layer for positive and negative items\n",
    "shared_dnn = create_base_network( [IMAGE_SHAPE[0], IMAGE_SHAPE[1], 1,] )\n",
    "\n",
    "anchor_embeding   = shared_dnn(anchor_input)\n",
    "positive_embeding = shared_dnn(positive_input)\n",
    "negative_embeding = shared_dnn(negative_input)\n",
    "\n",
    "\n",
    "merged_vector = concatenate( [anchor_embeding, positive_embeding, negative_embeding], \n",
    "                             axis=-1, \n",
    "                             name = 'merged_layer' )\n",
    "\n",
    "model = Model( inputs = [anchor_input, positive_input, negative_input], outputs = merged_vector )\n",
    "model.compile( loss = triplet_loss, optimizer = adam_optim )"
   ]
  },
  {
   "cell_type": "code",
   "execution_count": 17,
   "metadata": {},
   "outputs": [
    {
     "name": "stdout",
     "output_type": "stream",
     "text": [
      "__________________________________________________________________________________________________\n",
      "Layer (type)                    Output Shape         Param #     Connected to                     \n",
      "==================================================================================================\n",
      "anchor_input (InputLayer)       (None, 128, 128, 1)  0                                            \n",
      "__________________________________________________________________________________________________\n",
      "positive_input (InputLayer)     (None, 128, 128, 1)  0                                            \n",
      "__________________________________________________________________________________________________\n",
      "negative_input (InputLayer)     (None, 128, 128, 1)  0                                            \n",
      "__________________________________________________________________________________________________\n",
      "sequential (Sequential)         (None, 128)          70399616    anchor_input[0][0]               \n",
      "                                                                 positive_input[0][0]             \n",
      "                                                                 negative_input[0][0]             \n",
      "__________________________________________________________________________________________________\n",
      "merged_layer (Concatenate)      (None, 384)          0           sequential[1][0]                 \n",
      "                                                                 sequential[2][0]                 \n",
      "                                                                 sequential[3][0]                 \n",
      "==================================================================================================\n",
      "Total params: 70,399,616\n",
      "Trainable params: 70,399,360\n",
      "Non-trainable params: 256\n",
      "__________________________________________________________________________________________________\n"
     ]
    }
   ],
   "source": [
    "model.summary()"
   ]
  },
  {
   "cell_type": "markdown",
   "metadata": {},
   "source": [
    "**Training Model**"
   ]
  },
  {
   "cell_type": "code",
   "execution_count": 18,
   "metadata": {},
   "outputs": [
    {
     "name": "stdout",
     "output_type": "stream",
     "text": [
      "Train on 20341 samples, validate on 10019 samples\n",
      "Epoch 1/50\n",
      "20341/20341 [==============================] - 1041s 51ms/step - loss: 1.0467 - val_loss: 0.0106\n",
      "Epoch 2/50\n",
      "20341/20341 [==============================] - 971s 48ms/step - loss: 0.0100 - val_loss: 0.0126\n",
      "Epoch 3/50\n",
      "20341/20341 [==============================] - 972s 48ms/step - loss: 0.0210 - val_loss: 0.0748\n",
      "Epoch 4/50\n",
      "20341/20341 [==============================] - 970s 48ms/step - loss: 0.0191 - val_loss: 0.0034\n",
      "Epoch 5/50\n",
      " 1900/20341 [=>............................] - ETA: 12:31 - loss: 0.0017"
     ]
    },
    {
     "name": "stderr",
     "output_type": "stream",
     "text": [
      "IOPub message rate exceeded.\n",
      "The notebook server will temporarily stop sending output\n",
      "to the client in order to avoid crashing it.\n",
      "To change this limit, set the config variable\n",
      "`--NotebookApp.iopub_msg_rate_limit`.\n",
      "\n",
      "Current values:\n",
      "NotebookApp.iopub_msg_rate_limit=1000.0 (msgs/sec)\n",
      "NotebookApp.rate_limit_window=3.0 (secs)\n",
      "\n"
     ]
    },
    {
     "name": "stdout",
     "output_type": "stream",
     "text": [
      "20341/20341 [==============================] - 961s 47ms/step - loss: 0.0022 - val_loss: 0.0044\n",
      "Epoch 11/50\n",
      "20341/20341 [==============================] - 961s 47ms/step - loss: 0.0095 - val_loss: 0.0151\n",
      "Epoch 12/50\n",
      "20341/20341 [==============================] - 961s 47ms/step - loss: 0.0173 - val_loss: 0.0028\n",
      "Epoch 13/50\n",
      "18850/20341 [==========================>...] - ETA: 1:00 - loss: 5.8850e-04"
     ]
    },
    {
     "name": "stderr",
     "output_type": "stream",
     "text": [
      "IOPub message rate exceeded.\n",
      "The notebook server will temporarily stop sending output\n",
      "to the client in order to avoid crashing it.\n",
      "To change this limit, set the config variable\n",
      "`--NotebookApp.iopub_msg_rate_limit`.\n",
      "\n",
      "Current values:\n",
      "NotebookApp.iopub_msg_rate_limit=1000.0 (msgs/sec)\n",
      "NotebookApp.rate_limit_window=3.0 (secs)\n",
      "\n"
     ]
    },
    {
     "name": "stdout",
     "output_type": "stream",
     "text": [
      "20341/20341 [==============================] - 957s 47ms/step - loss: 0.0056 - val_loss: 0.0101\n",
      "Epoch 17/50\n",
      "20341/20341 [==============================] - 956s 47ms/step - loss: 9.3080e-04 - val_loss: 0.0027\n",
      "Epoch 18/50\n",
      "20341/20341 [==============================] - 956s 47ms/step - loss: 1.0414e-04 - val_loss: 0.0029\n",
      "Epoch 19/50\n",
      "20341/20341 [==============================] - 956s 47ms/step - loss: 0.0020 - val_loss: 0.0031\n",
      "Epoch 20/50\n",
      "20341/20341 [==============================] - 955s 47ms/step - loss: 0.0023 - val_loss: 0.0108\n",
      "Epoch 21/50\n",
      " 6250/20341 [========>.....................] - ETA: 9:27 - loss: 0.0025"
     ]
    },
    {
     "name": "stderr",
     "output_type": "stream",
     "text": [
      "IOPub message rate exceeded.\n",
      "The notebook server will temporarily stop sending output\n",
      "to the client in order to avoid crashing it.\n",
      "To change this limit, set the config variable\n",
      "`--NotebookApp.iopub_msg_rate_limit`.\n",
      "\n",
      "Current values:\n",
      "NotebookApp.iopub_msg_rate_limit=1000.0 (msgs/sec)\n",
      "NotebookApp.rate_limit_window=3.0 (secs)\n",
      "\n"
     ]
    },
    {
     "name": "stdout",
     "output_type": "stream",
     "text": [
      "20341/20341 [==============================] - 953s 47ms/step - loss: 0.0046 - val_loss: 0.0038\n",
      "Epoch 27/50\n",
      "20341/20341 [==============================] - 952s 47ms/step - loss: 6.9581e-04 - val_loss: 0.0094\n",
      "Epoch 28/50\n",
      "20341/20341 [==============================] - 952s 47ms/step - loss: 7.8438e-04 - val_loss: 9.7883e-04\n",
      "Epoch 29/50\n",
      "20341/20341 [==============================] - 951s 47ms/step - loss: 5.4921e-04 - val_loss: 0.0014\n",
      "Epoch 30/50\n",
      " 8950/20341 [============>.................] - ETA: 7:37 - loss: 0.0017"
     ]
    },
    {
     "name": "stderr",
     "output_type": "stream",
     "text": [
      "IOPub message rate exceeded.\n",
      "The notebook server will temporarily stop sending output\n",
      "to the client in order to avoid crashing it.\n",
      "To change this limit, set the config variable\n",
      "`--NotebookApp.iopub_msg_rate_limit`.\n",
      "\n",
      "Current values:\n",
      "NotebookApp.iopub_msg_rate_limit=1000.0 (msgs/sec)\n",
      "NotebookApp.rate_limit_window=3.0 (secs)\n",
      "\n"
     ]
    },
    {
     "name": "stdout",
     "output_type": "stream",
     "text": [
      "20341/20341 [==============================] - 952s 47ms/step - loss: 0.0075 - val_loss: 0.0032\n",
      "Epoch 36/50\n",
      "20341/20341 [==============================] - 951s 47ms/step - loss: 0.0033 - val_loss: 0.0024\n",
      "Epoch 37/50\n",
      "20341/20341 [==============================] - 951s 47ms/step - loss: 4.7541e-04 - val_loss: 0.0013\n",
      "Epoch 38/50\n",
      "20341/20341 [==============================] - 950s 47ms/step - loss: 3.2389e-04 - val_loss: 0.0013\n",
      "Epoch 39/50\n",
      " 7600/20341 [==========>...................] - ETA: 8:30 - loss: 0.0000e+00"
     ]
    },
    {
     "name": "stderr",
     "output_type": "stream",
     "text": [
      "IOPub message rate exceeded.\n",
      "The notebook server will temporarily stop sending output\n",
      "to the client in order to avoid crashing it.\n",
      "To change this limit, set the config variable\n",
      "`--NotebookApp.iopub_msg_rate_limit`.\n",
      "\n",
      "Current values:\n",
      "NotebookApp.iopub_msg_rate_limit=1000.0 (msgs/sec)\n",
      "NotebookApp.rate_limit_window=3.0 (secs)\n",
      "\n"
     ]
    },
    {
     "name": "stdout",
     "output_type": "stream",
     "text": [
      "20341/20341 [==============================] - 951s 47ms/step - loss: 0.0060 - val_loss: 0.0035\n",
      "Epoch 45/50\n",
      "20341/20341 [==============================] - 950s 47ms/step - loss: 0.0017 - val_loss: 0.0011\n",
      "Epoch 46/50\n",
      "20341/20341 [==============================] - 949s 47ms/step - loss: 2.7959e-04 - val_loss: 0.0022\n",
      "Epoch 47/50\n",
      "20341/20341 [==============================] - 949s 47ms/step - loss: 5.8876e-04 - val_loss: 0.0019\n",
      "Epoch 48/50\n",
      " 5075/20341 [======>.......................] - ETA: 10:11 - loss: 3.9954e-04"
     ]
    },
    {
     "name": "stderr",
     "output_type": "stream",
     "text": [
      "IOPub message rate exceeded.\n",
      "The notebook server will temporarily stop sending output\n",
      "to the client in order to avoid crashing it.\n",
      "To change this limit, set the config variable\n",
      "`--NotebookApp.iopub_msg_rate_limit`.\n",
      "\n",
      "Current values:\n",
      "NotebookApp.iopub_msg_rate_limit=1000.0 (msgs/sec)\n",
      "NotebookApp.rate_limit_window=3.0 (secs)\n",
      "\n"
     ]
    }
   ],
   "source": [
    "A_train = X_train[:,0,:].reshape(-1, IMAGE_SHAPE[0], IMAGE_SHAPE[1], 1)\n",
    "P_train = X_train[:,1,:].reshape(-1, IMAGE_SHAPE[0], IMAGE_SHAPE[1], 1)\n",
    "N_train = X_train[:,2,:].reshape(-1, IMAGE_SHAPE[0], IMAGE_SHAPE[1], 1)\n",
    "\n",
    "A_test = X_test[:,0,:].reshape(-1, IMAGE_SHAPE[0], IMAGE_SHAPE[1], 1)\n",
    "P_test = X_test[:,1,:].reshape(-1, IMAGE_SHAPE[0], IMAGE_SHAPE[1], 1)\n",
    "N_test = X_test[:,2,:].reshape(-1, IMAGE_SHAPE[0], IMAGE_SHAPE[1], 1)\n",
    "\n",
    "y_dummy_train = np.empty( (A_train.shape[0], 300) )\n",
    "y_dummy_test  = np.empty( (A_test.shape[0], 1) )\n",
    "\n",
    "H = model.fit( x = [A_train, P_train, N_train],\n",
    "               y = y_dummy_train,\n",
    "               validation_data = ( [A_test, P_test, N_test], y_dummy_test ), \n",
    "               batch_size = BATCH_SIZE, \n",
    "               epochs = EPOCHS )"
   ]
  },
  {
   "cell_type": "code",
   "execution_count": 19,
   "metadata": {},
   "outputs": [
    {
     "data": {
      "image/png": "[encoded data removed]",
      "text/plain": [
       "<Figure size 576x576 with 1 Axes>"
      ]
     },
     "metadata": {
      "needs_background": "light"
     },
     "output_type": "display_data"
    }
   ],
   "source": [
    "plt.figure(figsize=(8,8))\n",
    "plt.plot(H.history['loss'], label='training loss')\n",
    "plt.plot(H.history['val_loss'], label='validation loss')\n",
    "plt.legend()\n",
    "plt.title('Train/validation loss')\n",
    "plt.show()"
   ]
  },
  {
   "cell_type": "markdown",
   "metadata": {},
   "source": [
    "## Saving model"
   ]
  },
  {
   "cell_type": "code",
   "execution_count": 24,
   "metadata": {},
   "outputs": [],
   "source": [
    "# save model and architecture to single file\n",
    "model.save(\"trained_model.h5\")"
   ]
  },
  {
   "cell_type": "code",
   "execution_count": null,
   "metadata": {},
   "outputs": [],
   "source": []
  }
 ],
 "metadata": {
  "kernelspec": {
   "display_name": "Python 3.6 - AzureML",
   "language": "python",
   "name": "python3-azureml"
  },
  "language_info": {
   "codemirror_mode": {
    "name": "ipython",
    "version": 3
   },
   "file_extension": ".py",
   "mimetype": "text/x-python",
   "name": "python",
   "nbconvert_exporter": "python",
   "pygments_lexer": "ipython3",
   "version": "3.6.8"
  }
 },
 "nbformat": 4,
 "nbformat_minor": 2
}
