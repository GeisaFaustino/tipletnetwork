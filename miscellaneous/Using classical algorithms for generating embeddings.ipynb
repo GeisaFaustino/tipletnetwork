{
 "cells": [
  {
   "cell_type": "markdown",
   "metadata": {},
   "source": [
    "## Classical Algorithms for Vectorization\n",
    "\n",
    "In this notebook we are using classical algorithms as KAZE and SURF for generating feature-vector representation for image signatures. In order to measure semilarety between images, we compute Euclidian distance between corresponding vectors.\n",
    "\n",
    "We are using a data set with 10019 triplets. Each triplet is maded for a anchor, a positive and a negative image signature. "
   ]
  },
  {
   "cell_type": "code",
   "execution_count": 1,
   "metadata": {},
   "outputs": [
    {
     "name": "stdout",
     "output_type": "stream",
     "text": [
      "cv2 version: 3.4.2\n"
     ]
    }
   ],
   "source": [
    "import cv2\n",
    "import pandas as pd\n",
    "import numpy as np\n",
    "from tqdm import tqdm\n",
    "from matplotlib import pyplot as plt\n",
    "\n",
    "print( \"cv2 version:\", cv2.__version__ )"
   ]
  },
  {
   "cell_type": "markdown",
   "metadata": {},
   "source": [
    "**Loading images**"
   ]
  },
  {
   "cell_type": "code",
   "execution_count": 3,
   "metadata": {},
   "outputs": [
    {
     "name": "stdout",
     "output_type": "stream",
     "text": [
      "(10019, 3)\n"
     ]
    },
    {
     "data": {
      "text/html": [
       "<div>\n",
       "<style scoped>\n",
       "    .dataframe tbody tr th:only-of-type {\n",
       "        vertical-align: middle;\n",
       "    }\n",
       "\n",
       "    .dataframe tbody tr th {\n",
       "        vertical-align: top;\n",
       "    }\n",
       "\n",
       "    .dataframe thead th {\n",
       "        text-align: right;\n",
       "    }\n",
       "</style>\n",
       "<table border=\"1\" class=\"dataframe\">\n",
       "  <thead>\n",
       "    <tr style=\"text-align: right;\">\n",
       "      <th></th>\n",
       "      <th>Anchor</th>\n",
       "      <th>Positive</th>\n",
       "      <th>Negative</th>\n",
       "    </tr>\n",
       "  </thead>\n",
       "  <tbody>\n",
       "    <tr>\n",
       "      <th>0</th>\n",
       "      <td>original_45_3.png</td>\n",
       "      <td>original_45_19.png</td>\n",
       "      <td>forgeries_45_19.png</td>\n",
       "    </tr>\n",
       "    <tr>\n",
       "      <th>1</th>\n",
       "      <td>original_37_18.png</td>\n",
       "      <td>original_37_15.png</td>\n",
       "      <td>forgeries_37_15.png</td>\n",
       "    </tr>\n",
       "    <tr>\n",
       "      <th>2</th>\n",
       "      <td>original_24_11.png</td>\n",
       "      <td>original_24_24.png</td>\n",
       "      <td>forgeries_24_24.png</td>\n",
       "    </tr>\n",
       "    <tr>\n",
       "      <th>3</th>\n",
       "      <td>original_33_20.png</td>\n",
       "      <td>original_33_3.png</td>\n",
       "      <td>forgeries_33_3.png</td>\n",
       "    </tr>\n",
       "    <tr>\n",
       "      <th>4</th>\n",
       "      <td>original_2_9.png</td>\n",
       "      <td>original_2_22.png</td>\n",
       "      <td>forgeries_2_22.png</td>\n",
       "    </tr>\n",
       "  </tbody>\n",
       "</table>\n",
       "</div>"
      ],
      "text/plain": [
       "               Anchor            Positive             Negative\n",
       "0   original_45_3.png  original_45_19.png  forgeries_45_19.png\n",
       "1  original_37_18.png  original_37_15.png  forgeries_37_15.png\n",
       "2  original_24_11.png  original_24_24.png  forgeries_24_24.png\n",
       "3  original_33_20.png   original_33_3.png   forgeries_33_3.png\n",
       "4    original_2_9.png   original_2_22.png   forgeries_2_22.png"
      ]
     },
     "execution_count": 3,
     "metadata": {},
     "output_type": "execute_result"
    }
   ],
   "source": [
    "sample_signatures_df = pd.read_csv( '../dataset/signatures/X_test.csv' )\n",
    "print(sample_signatures_df.shape)\n",
    "sample_signatures_df.head()"
   ]
  },
  {
   "cell_type": "markdown",
   "metadata": {},
   "source": [
    "**Method for processing input image**"
   ]
  },
  {
   "cell_type": "code",
   "execution_count": 4,
   "metadata": {},
   "outputs": [],
   "source": [
    "def processing_image( image_path ):\n",
    "    \n",
    "    # Read image as grayscale\n",
    "    image = cv2.imread( image_path, cv2.IMREAD_GRAYSCALE )\n",
    "    \n",
    "    # Binarize image through Otsu's thresholding. \n",
    "    # Background will be back and signature will be white.\n",
    "    _, image_bin = cv2.threshold( image, 0, 255, cv2.THRESH_BINARY_INV + cv2.THRESH_OTSU )\n",
    "    \n",
    "    return image_bin"
   ]
  },
  {
   "cell_type": "markdown",
   "metadata": {},
   "source": [
    "**Methods for computing distance**"
   ]
  },
  {
   "cell_type": "code",
   "execution_count": 5,
   "metadata": {},
   "outputs": [],
   "source": [
    "def cosine_distances( u, v ):\n",
    "    from sklearn.metrics.pairwise import cosine_distances\n",
    "    return cosine_distances( u, v )"
   ]
  },
  {
   "cell_type": "code",
   "execution_count": 6,
   "metadata": {},
   "outputs": [],
   "source": [
    "def euclidean_distances( u, v ):\n",
    "    from sklearn.metrics.pairwise import euclidean_distances\n",
    "    return euclidean_distances( u, v )"
   ]
  },
  {
   "cell_type": "markdown",
   "metadata": {},
   "source": [
    "### KAZE descriptor   \n",
    "Reference: https://medium.com/machine-learning-world/feature-extraction-and-similar-image-search-with-opencv-for-newbies-3c59796bf774"
   ]
  },
  {
   "cell_type": "code",
   "execution_count": 7,
   "metadata": {},
   "outputs": [],
   "source": [
    "def extract_features_KAZE( image, vector_size = 32 ):\n",
    "    \n",
    "    alg = cv2.KAZE_create()\n",
    "    \n",
    "    # Dinding image keypoints\n",
    "    kps = alg.detect(image)\n",
    "    \n",
    "    # Getting first 32 of them. \n",
    "    # Number of keypoints is varies depend on image size and color pallet\n",
    "    # Sorting them based on keypoint response value(bigger is better)\n",
    "    kps = sorted(kps, key=lambda x: -x.response)[:vector_size]\n",
    "    \n",
    "    # computing descriptors vector\n",
    "    kps, dsc = alg.compute(image, kps)\n",
    "    \n",
    "    # Flatten all of them in one big vector - our feature vector\n",
    "    dsc = dsc.flatten()\n",
    "    \n",
    "    # Making descriptor of same size\n",
    "    # Descriptor vector size is 64\n",
    "    needed_size = (vector_size * 64)\n",
    "    if dsc.size < needed_size:\n",
    "        # if we have less the 32 descriptors then just adding zeros at the\n",
    "        # end of our feature vector\n",
    "        dsc = np.concatenate([dsc, np.zeros(needed_size - dsc.size)])\n",
    "        \n",
    "    return dsc "
   ]
  },
  {
   "cell_type": "markdown",
   "metadata": {},
   "source": [
    "### SURF descriptor   \n",
    "\n",
    "References:\n",
    "* https://stackoverflow.com/questions/52305578/sift-cv2-xfeatures2d-sift-create-not-working-even-though-have-contrib-instal\n",
    "* https://docs.opencv.org/3.4.3/d5/dde/tutorial_feature_description.html \n",
    "* https://docs.opencv.org/3.0-beta/doc/py_tutorials/py_feature2d/py_surf_intro/py_surf_intro.html#surf"
   ]
  },
  {
   "cell_type": "code",
   "execution_count": 8,
   "metadata": {},
   "outputs": [],
   "source": [
    "def extract_features_SURF( image, minHessian = 400):\n",
    "        \n",
    "    # Detect the keypoints using SURF Detector, compute the descriptors\n",
    "    detector = cv2.xfeatures2d_SURF.create( hessianThreshold = minHessian )\n",
    "    keypoints, descriptors = detector.detectAndCompute(image, None)    \n",
    "    \n",
    "    if descriptors.all() == None:\n",
    "        return None\n",
    "        \n",
    "    return descriptors.flatten()"
   ]
  },
  {
   "cell_type": "markdown",
   "metadata": {},
   "source": [
    "### Testing descriptors"
   ]
  },
  {
   "cell_type": "code",
   "execution_count": 9,
   "metadata": {},
   "outputs": [
    {
     "name": "stderr",
     "output_type": "stream",
     "text": [
      "10019it [3:57:13,  1.52s/it]\n"
     ]
    }
   ],
   "source": [
    "results_df = pd.DataFrame( columns = ['Anchor', 'Positive', 'Negative', \n",
    "                                      'Pos-SURF-Dist', 'Neg-SURF-Dist', \n",
    "                                      'Pos-Kaze-Dist', 'Neg-Kaze-Dist'] )\n",
    "\n",
    "genuine_signatures_path =  \"../dataset/signatures/full_org/\"\n",
    "forged_signatures_path = \"../dataset/signatures/full_forg/\"\n",
    "\n",
    "for index, row in tqdm( sample_signatures_df.iterrows() ): \n",
    "    \n",
    "    anchor   = processing_image( genuine_signatures_path + row[\"Anchor\"]   )\n",
    "    positive = processing_image( genuine_signatures_path + row[\"Positive\"] )\n",
    "    negative = processing_image( forged_signatures_path  + row[\"Negative\"] )\n",
    "           \n",
    "    # --- KAZE descriptor ---\n",
    "    anchor_kaze_dsc = extract_features_KAZE( anchor )\n",
    "    positive_kaze_dsc = extract_features_KAZE( positive )\n",
    "    negative_kaze_dsc = extract_features_KAZE( negative )\n",
    "\n",
    "    pos_kaze_dist = euclidean_distances( [anchor_kaze_dsc], [positive_kaze_dsc] )\n",
    "    neg_kaze_dist = euclidean_distances( [anchor_kaze_dsc], [negative_kaze_dsc] )\n",
    "\n",
    "    # --- SURF descriptor ---\n",
    "    anchor_surf_dsc = extract_features_SURF( anchor )\n",
    "    positive_surf_dsc = extract_features_SURF( positive )\n",
    "    negative_surf_dsc = extract_features_SURF( negative )\n",
    "\n",
    "    pos_surf_dist = -1\n",
    "    neg_surf_dist = -1\n",
    "\n",
    "    if positive_surf_dsc.all() != None and negative_surf_dsc.all() != None:\n",
    "\n",
    "        size = max(anchor_surf_dsc.size, positive_surf_dsc.size, negative_surf_dsc.size)\n",
    "\n",
    "        # Making feature vectors of same size\n",
    "        if anchor_surf_dsc.size < size:\n",
    "            anchor_surf_dsc = np.concatenate([anchor_surf_dsc, np.zeros(size - anchor_surf_dsc.size)])\n",
    "\n",
    "        if positive_surf_dsc.size < size:\n",
    "            positive_surf_dsc = np.concatenate([positive_surf_dsc, np.zeros(size - positive_surf_dsc.size)])\n",
    "\n",
    "        if negative_surf_dsc.size < size:\n",
    "            negative_surf_dsc = np.concatenate([negative_surf_dsc, np.zeros(size - negative_surf_dsc.size)])\n",
    "\n",
    "        pos_surf_dist = euclidean_distances( [anchor_surf_dsc], [positive_surf_dsc] )\n",
    "        neg_surf_dist = euclidean_distances( [anchor_surf_dsc], [negative_surf_dsc] )\n",
    "\n",
    "    # Saving distances on pandas dataframe\n",
    "    results_df = results_df.append( {'Anchor' : row[\"Anchor\"], \n",
    "                                     'Positive' : row[\"Positive\"], \n",
    "                                     'Negative' : row[\"Negative\"], \n",
    "                                     'Pos-SURF-Dist' : pos_surf_dist[0][0], \n",
    "                                     'Neg-SURF-Dist' : neg_surf_dist[0][0], \n",
    "                                     'Pos-Kaze-Dist' : pos_kaze_dist[0][0], \n",
    "                                     'Neg-Kaze-Dist' : neg_kaze_dist[0][0]\n",
    "                                     }, ignore_index=True )"
   ]
  },
  {
   "cell_type": "code",
   "execution_count": 10,
   "metadata": {},
   "outputs": [
    {
     "data": {
      "text/html": [
       "<div>\n",
       "<style scoped>\n",
       "    .dataframe tbody tr th:only-of-type {\n",
       "        vertical-align: middle;\n",
       "    }\n",
       "\n",
       "    .dataframe tbody tr th {\n",
       "        vertical-align: top;\n",
       "    }\n",
       "\n",
       "    .dataframe thead th {\n",
       "        text-align: right;\n",
       "    }\n",
       "</style>\n",
       "<table border=\"1\" class=\"dataframe\">\n",
       "  <thead>\n",
       "    <tr style=\"text-align: right;\">\n",
       "      <th></th>\n",
       "      <th>Anchor</th>\n",
       "      <th>Positive</th>\n",
       "      <th>Negative</th>\n",
       "      <th>Pos-SURF-Dist</th>\n",
       "      <th>Neg-SURF-Dist</th>\n",
       "      <th>Pos-Kaze-Dist</th>\n",
       "      <th>Neg-Kaze-Dist</th>\n",
       "    </tr>\n",
       "  </thead>\n",
       "  <tbody>\n",
       "    <tr>\n",
       "      <th>0</th>\n",
       "      <td>original_45_3.png</td>\n",
       "      <td>original_45_19.png</td>\n",
       "      <td>forgeries_45_19.png</td>\n",
       "      <td>16.244788</td>\n",
       "      <td>19.495871</td>\n",
       "      <td>4.332119</td>\n",
       "      <td>4.180222</td>\n",
       "    </tr>\n",
       "    <tr>\n",
       "      <th>1</th>\n",
       "      <td>original_37_18.png</td>\n",
       "      <td>original_37_15.png</td>\n",
       "      <td>forgeries_37_15.png</td>\n",
       "      <td>18.057001</td>\n",
       "      <td>17.151524</td>\n",
       "      <td>3.794681</td>\n",
       "      <td>3.613640</td>\n",
       "    </tr>\n",
       "    <tr>\n",
       "      <th>2</th>\n",
       "      <td>original_24_11.png</td>\n",
       "      <td>original_24_24.png</td>\n",
       "      <td>forgeries_24_24.png</td>\n",
       "      <td>14.787510</td>\n",
       "      <td>19.244377</td>\n",
       "      <td>4.685726</td>\n",
       "      <td>4.694830</td>\n",
       "    </tr>\n",
       "    <tr>\n",
       "      <th>3</th>\n",
       "      <td>original_33_20.png</td>\n",
       "      <td>original_33_3.png</td>\n",
       "      <td>forgeries_33_3.png</td>\n",
       "      <td>14.997617</td>\n",
       "      <td>31.841983</td>\n",
       "      <td>4.338669</td>\n",
       "      <td>4.311652</td>\n",
       "    </tr>\n",
       "    <tr>\n",
       "      <th>4</th>\n",
       "      <td>original_2_9.png</td>\n",
       "      <td>original_2_22.png</td>\n",
       "      <td>forgeries_2_22.png</td>\n",
       "      <td>20.292387</td>\n",
       "      <td>22.006924</td>\n",
       "      <td>4.373150</td>\n",
       "      <td>4.437897</td>\n",
       "    </tr>\n",
       "  </tbody>\n",
       "</table>\n",
       "</div>"
      ],
      "text/plain": [
       "               Anchor            Positive             Negative  Pos-SURF-Dist  \\\n",
       "0   original_45_3.png  original_45_19.png  forgeries_45_19.png      16.244788   \n",
       "1  original_37_18.png  original_37_15.png  forgeries_37_15.png      18.057001   \n",
       "2  original_24_11.png  original_24_24.png  forgeries_24_24.png      14.787510   \n",
       "3  original_33_20.png   original_33_3.png   forgeries_33_3.png      14.997617   \n",
       "4    original_2_9.png   original_2_22.png   forgeries_2_22.png      20.292387   \n",
       "\n",
       "   Neg-SURF-Dist  Pos-Kaze-Dist  Neg-Kaze-Dist  \n",
       "0      19.495871       4.332119       4.180222  \n",
       "1      17.151524       3.794681       3.613640  \n",
       "2      19.244377       4.685726       4.694830  \n",
       "3      31.841983       4.338669       4.311652  \n",
       "4      22.006924       4.373150       4.437897  "
      ]
     },
     "execution_count": 10,
     "metadata": {},
     "output_type": "execute_result"
    }
   ],
   "source": [
    "results_df.head()"
   ]
  },
  {
   "cell_type": "code",
   "execution_count": 11,
   "metadata": {},
   "outputs": [
    {
     "data": {
      "text/html": [
       "<div>\n",
       "<style scoped>\n",
       "    .dataframe tbody tr th:only-of-type {\n",
       "        vertical-align: middle;\n",
       "    }\n",
       "\n",
       "    .dataframe tbody tr th {\n",
       "        vertical-align: top;\n",
       "    }\n",
       "\n",
       "    .dataframe thead th {\n",
       "        text-align: right;\n",
       "    }\n",
       "</style>\n",
       "<table border=\"1\" class=\"dataframe\">\n",
       "  <thead>\n",
       "    <tr style=\"text-align: right;\">\n",
       "      <th></th>\n",
       "      <th>Pos-SURF-Dist</th>\n",
       "      <th>Neg-SURF-Dist</th>\n",
       "      <th>Pos-Kaze-Dist</th>\n",
       "      <th>Neg-Kaze-Dist</th>\n",
       "    </tr>\n",
       "  </thead>\n",
       "  <tbody>\n",
       "    <tr>\n",
       "      <th>count</th>\n",
       "      <td>10019.000000</td>\n",
       "      <td>10019.000000</td>\n",
       "      <td>10019.000000</td>\n",
       "      <td>10019.000000</td>\n",
       "    </tr>\n",
       "    <tr>\n",
       "      <th>mean</th>\n",
       "      <td>19.594372</td>\n",
       "      <td>22.660725</td>\n",
       "      <td>4.290112</td>\n",
       "      <td>4.333114</td>\n",
       "    </tr>\n",
       "    <tr>\n",
       "      <th>std</th>\n",
       "      <td>4.363164</td>\n",
       "      <td>5.393417</td>\n",
       "      <td>0.247175</td>\n",
       "      <td>0.226544</td>\n",
       "    </tr>\n",
       "    <tr>\n",
       "      <th>min</th>\n",
       "      <td>9.624640</td>\n",
       "      <td>10.022026</td>\n",
       "      <td>1.607622</td>\n",
       "      <td>3.410800</td>\n",
       "    </tr>\n",
       "    <tr>\n",
       "      <th>25%</th>\n",
       "      <td>16.414996</td>\n",
       "      <td>18.879736</td>\n",
       "      <td>4.129354</td>\n",
       "      <td>4.186413</td>\n",
       "    </tr>\n",
       "    <tr>\n",
       "      <th>50%</th>\n",
       "      <td>19.574543</td>\n",
       "      <td>22.168287</td>\n",
       "      <td>4.294860</td>\n",
       "      <td>4.336952</td>\n",
       "    </tr>\n",
       "    <tr>\n",
       "      <th>75%</th>\n",
       "      <td>22.546072</td>\n",
       "      <td>26.023236</td>\n",
       "      <td>4.457046</td>\n",
       "      <td>4.490592</td>\n",
       "    </tr>\n",
       "    <tr>\n",
       "      <th>max</th>\n",
       "      <td>34.647639</td>\n",
       "      <td>40.124608</td>\n",
       "      <td>5.211287</td>\n",
       "      <td>5.244497</td>\n",
       "    </tr>\n",
       "  </tbody>\n",
       "</table>\n",
       "</div>"
      ],
      "text/plain": [
       "       Pos-SURF-Dist  Neg-SURF-Dist  Pos-Kaze-Dist  Neg-Kaze-Dist\n",
       "count   10019.000000   10019.000000   10019.000000   10019.000000\n",
       "mean       19.594372      22.660725       4.290112       4.333114\n",
       "std         4.363164       5.393417       0.247175       0.226544\n",
       "min         9.624640      10.022026       1.607622       3.410800\n",
       "25%        16.414996      18.879736       4.129354       4.186413\n",
       "50%        19.574543      22.168287       4.294860       4.336952\n",
       "75%        22.546072      26.023236       4.457046       4.490592\n",
       "max        34.647639      40.124608       5.211287       5.244497"
      ]
     },
     "execution_count": 11,
     "metadata": {},
     "output_type": "execute_result"
    }
   ],
   "source": [
    "results_df.describe()"
   ]
  },
  {
   "cell_type": "code",
   "execution_count": 12,
   "metadata": {},
   "outputs": [],
   "source": [
    "results_df.to_csv( 'signature_similarity_surf_kaze.csv', index=False)"
   ]
  },
  {
   "cell_type": "code",
   "execution_count": 13,
   "metadata": {},
   "outputs": [
    {
     "data": {
      "text/html": [
       "<div>\n",
       "<style scoped>\n",
       "    .dataframe tbody tr th:only-of-type {\n",
       "        vertical-align: middle;\n",
       "    }\n",
       "\n",
       "    .dataframe tbody tr th {\n",
       "        vertical-align: top;\n",
       "    }\n",
       "\n",
       "    .dataframe thead th {\n",
       "        text-align: right;\n",
       "    }\n",
       "</style>\n",
       "<table border=\"1\" class=\"dataframe\">\n",
       "  <thead>\n",
       "    <tr style=\"text-align: right;\">\n",
       "      <th></th>\n",
       "      <th>Anchor</th>\n",
       "      <th>Positive</th>\n",
       "      <th>Negative</th>\n",
       "      <th>Pos-SURF-Dist</th>\n",
       "      <th>Neg-SURF-Dist</th>\n",
       "      <th>Pos-Kaze-Dist</th>\n",
       "      <th>Neg-Kaze-Dist</th>\n",
       "    </tr>\n",
       "  </thead>\n",
       "  <tbody>\n",
       "    <tr>\n",
       "      <th>0</th>\n",
       "      <td>original_45_3.png</td>\n",
       "      <td>original_45_19.png</td>\n",
       "      <td>forgeries_45_19.png</td>\n",
       "      <td>16.0</td>\n",
       "      <td>19.0</td>\n",
       "      <td>4.0</td>\n",
       "      <td>4.0</td>\n",
       "    </tr>\n",
       "    <tr>\n",
       "      <th>1</th>\n",
       "      <td>original_37_18.png</td>\n",
       "      <td>original_37_15.png</td>\n",
       "      <td>forgeries_37_15.png</td>\n",
       "      <td>18.0</td>\n",
       "      <td>17.0</td>\n",
       "      <td>4.0</td>\n",
       "      <td>4.0</td>\n",
       "    </tr>\n",
       "    <tr>\n",
       "      <th>2</th>\n",
       "      <td>original_24_11.png</td>\n",
       "      <td>original_24_24.png</td>\n",
       "      <td>forgeries_24_24.png</td>\n",
       "      <td>15.0</td>\n",
       "      <td>19.0</td>\n",
       "      <td>5.0</td>\n",
       "      <td>5.0</td>\n",
       "    </tr>\n",
       "    <tr>\n",
       "      <th>3</th>\n",
       "      <td>original_33_20.png</td>\n",
       "      <td>original_33_3.png</td>\n",
       "      <td>forgeries_33_3.png</td>\n",
       "      <td>15.0</td>\n",
       "      <td>32.0</td>\n",
       "      <td>4.0</td>\n",
       "      <td>4.0</td>\n",
       "    </tr>\n",
       "    <tr>\n",
       "      <th>4</th>\n",
       "      <td>original_2_9.png</td>\n",
       "      <td>original_2_22.png</td>\n",
       "      <td>forgeries_2_22.png</td>\n",
       "      <td>20.0</td>\n",
       "      <td>22.0</td>\n",
       "      <td>4.0</td>\n",
       "      <td>4.0</td>\n",
       "    </tr>\n",
       "  </tbody>\n",
       "</table>\n",
       "</div>"
      ],
      "text/plain": [
       "               Anchor            Positive             Negative  Pos-SURF-Dist  \\\n",
       "0   original_45_3.png  original_45_19.png  forgeries_45_19.png           16.0   \n",
       "1  original_37_18.png  original_37_15.png  forgeries_37_15.png           18.0   \n",
       "2  original_24_11.png  original_24_24.png  forgeries_24_24.png           15.0   \n",
       "3  original_33_20.png   original_33_3.png   forgeries_33_3.png           15.0   \n",
       "4    original_2_9.png   original_2_22.png   forgeries_2_22.png           20.0   \n",
       "\n",
       "   Neg-SURF-Dist  Pos-Kaze-Dist  Neg-Kaze-Dist  \n",
       "0           19.0            4.0            4.0  \n",
       "1           17.0            4.0            4.0  \n",
       "2           19.0            5.0            5.0  \n",
       "3           32.0            4.0            4.0  \n",
       "4           22.0            4.0            4.0  "
      ]
     },
     "execution_count": 13,
     "metadata": {},
     "output_type": "execute_result"
    }
   ],
   "source": [
    "results_df = results_df.round(0)\n",
    "results_df.head()"
   ]
  },
  {
   "cell_type": "code",
   "execution_count": 15,
   "metadata": {},
   "outputs": [],
   "source": [
    "results_surf_kaze = results_df.drop( columns = ['Anchor', 'Positive', 'Negative'] )"
   ]
  },
  {
   "cell_type": "code",
   "execution_count": 16,
   "metadata": {},
   "outputs": [
    {
     "data": {
      "text/html": [
       "<div>\n",
       "<style scoped>\n",
       "    .dataframe tbody tr th:only-of-type {\n",
       "        vertical-align: middle;\n",
       "    }\n",
       "\n",
       "    .dataframe tbody tr th {\n",
       "        vertical-align: top;\n",
       "    }\n",
       "\n",
       "    .dataframe thead th {\n",
       "        text-align: right;\n",
       "    }\n",
       "</style>\n",
       "<table border=\"1\" class=\"dataframe\">\n",
       "  <thead>\n",
       "    <tr style=\"text-align: right;\">\n",
       "      <th></th>\n",
       "      <th>Pos-SURF-Dist</th>\n",
       "      <th>Neg-SURF-Dist</th>\n",
       "      <th>Pos-Kaze-Dist</th>\n",
       "      <th>Neg-Kaze-Dist</th>\n",
       "    </tr>\n",
       "  </thead>\n",
       "  <tbody>\n",
       "    <tr>\n",
       "      <th>0</th>\n",
       "      <td>16.0</td>\n",
       "      <td>19.0</td>\n",
       "      <td>4.0</td>\n",
       "      <td>4.0</td>\n",
       "    </tr>\n",
       "    <tr>\n",
       "      <th>1</th>\n",
       "      <td>18.0</td>\n",
       "      <td>17.0</td>\n",
       "      <td>4.0</td>\n",
       "      <td>4.0</td>\n",
       "    </tr>\n",
       "    <tr>\n",
       "      <th>2</th>\n",
       "      <td>15.0</td>\n",
       "      <td>19.0</td>\n",
       "      <td>5.0</td>\n",
       "      <td>5.0</td>\n",
       "    </tr>\n",
       "    <tr>\n",
       "      <th>3</th>\n",
       "      <td>15.0</td>\n",
       "      <td>32.0</td>\n",
       "      <td>4.0</td>\n",
       "      <td>4.0</td>\n",
       "    </tr>\n",
       "    <tr>\n",
       "      <th>4</th>\n",
       "      <td>20.0</td>\n",
       "      <td>22.0</td>\n",
       "      <td>4.0</td>\n",
       "      <td>4.0</td>\n",
       "    </tr>\n",
       "  </tbody>\n",
       "</table>\n",
       "</div>"
      ],
      "text/plain": [
       "   Pos-SURF-Dist  Neg-SURF-Dist  Pos-Kaze-Dist  Neg-Kaze-Dist\n",
       "0           16.0           19.0            4.0            4.0\n",
       "1           18.0           17.0            4.0            4.0\n",
       "2           15.0           19.0            5.0            5.0\n",
       "3           15.0           32.0            4.0            4.0\n",
       "4           20.0           22.0            4.0            4.0"
      ]
     },
     "execution_count": 16,
     "metadata": {},
     "output_type": "execute_result"
    }
   ],
   "source": [
    "results_surf_kaze.head()"
   ]
  },
  {
   "cell_type": "code",
   "execution_count": 17,
   "metadata": {},
   "outputs": [
    {
     "data": {
      "text/plain": [
       "array([[<matplotlib.axes._subplots.AxesSubplot object at 0x00000198463BE4A8>,\n",
       "        <matplotlib.axes._subplots.AxesSubplot object at 0x000001981F1D7A20>],\n",
       "       [<matplotlib.axes._subplots.AxesSubplot object at 0x0000019847294828>,\n",
       "        <matplotlib.axes._subplots.AxesSubplot object at 0x00000198473EAA90>]],\n",
       "      dtype=object)"
      ]
     },
     "execution_count": 17,
     "metadata": {},
     "output_type": "execute_result"
    },
    {
     "data": {
      "image/png": "[encoded data removed]",
      "text/plain": [
       "<Figure size 432x288 with 4 Axes>"
      ]
     },
     "metadata": {
      "needs_background": "light"
     },
     "output_type": "display_data"
    }
   ],
   "source": [
    "results_surf_kaze.hist()"
   ]
  },
  {
   "cell_type": "code",
   "execution_count": 18,
   "metadata": {},
   "outputs": [
    {
     "data": {
      "text/html": [
       "<div>\n",
       "<style scoped>\n",
       "    .dataframe tbody tr th:only-of-type {\n",
       "        vertical-align: middle;\n",
       "    }\n",
       "\n",
       "    .dataframe tbody tr th {\n",
       "        vertical-align: top;\n",
       "    }\n",
       "\n",
       "    .dataframe thead th {\n",
       "        text-align: right;\n",
       "    }\n",
       "</style>\n",
       "<table border=\"1\" class=\"dataframe\">\n",
       "  <thead>\n",
       "    <tr style=\"text-align: right;\">\n",
       "      <th></th>\n",
       "      <th>Pos-SURF-Dist</th>\n",
       "      <th>Neg-SURF-Dist</th>\n",
       "      <th>Pos-Kaze-Dist</th>\n",
       "      <th>Neg-Kaze-Dist</th>\n",
       "    </tr>\n",
       "  </thead>\n",
       "  <tbody>\n",
       "    <tr>\n",
       "      <th>count</th>\n",
       "      <td>10019.000000</td>\n",
       "      <td>10019.000000</td>\n",
       "      <td>10019.000000</td>\n",
       "      <td>10019.000000</td>\n",
       "    </tr>\n",
       "    <tr>\n",
       "      <th>mean</th>\n",
       "      <td>19.598064</td>\n",
       "      <td>22.661842</td>\n",
       "      <td>4.195728</td>\n",
       "      <td>4.235353</td>\n",
       "    </tr>\n",
       "    <tr>\n",
       "      <th>std</th>\n",
       "      <td>4.372280</td>\n",
       "      <td>5.400161</td>\n",
       "      <td>0.398287</td>\n",
       "      <td>0.424711</td>\n",
       "    </tr>\n",
       "    <tr>\n",
       "      <th>min</th>\n",
       "      <td>10.000000</td>\n",
       "      <td>10.000000</td>\n",
       "      <td>2.000000</td>\n",
       "      <td>3.000000</td>\n",
       "    </tr>\n",
       "    <tr>\n",
       "      <th>25%</th>\n",
       "      <td>16.000000</td>\n",
       "      <td>19.000000</td>\n",
       "      <td>4.000000</td>\n",
       "      <td>4.000000</td>\n",
       "    </tr>\n",
       "    <tr>\n",
       "      <th>50%</th>\n",
       "      <td>20.000000</td>\n",
       "      <td>22.000000</td>\n",
       "      <td>4.000000</td>\n",
       "      <td>4.000000</td>\n",
       "    </tr>\n",
       "    <tr>\n",
       "      <th>75%</th>\n",
       "      <td>23.000000</td>\n",
       "      <td>26.000000</td>\n",
       "      <td>4.000000</td>\n",
       "      <td>4.000000</td>\n",
       "    </tr>\n",
       "    <tr>\n",
       "      <th>max</th>\n",
       "      <td>35.000000</td>\n",
       "      <td>40.000000</td>\n",
       "      <td>5.000000</td>\n",
       "      <td>5.000000</td>\n",
       "    </tr>\n",
       "  </tbody>\n",
       "</table>\n",
       "</div>"
      ],
      "text/plain": [
       "       Pos-SURF-Dist  Neg-SURF-Dist  Pos-Kaze-Dist  Neg-Kaze-Dist\n",
       "count   10019.000000   10019.000000   10019.000000   10019.000000\n",
       "mean       19.598064      22.661842       4.195728       4.235353\n",
       "std         4.372280       5.400161       0.398287       0.424711\n",
       "min        10.000000      10.000000       2.000000       3.000000\n",
       "25%        16.000000      19.000000       4.000000       4.000000\n",
       "50%        20.000000      22.000000       4.000000       4.000000\n",
       "75%        23.000000      26.000000       4.000000       4.000000\n",
       "max        35.000000      40.000000       5.000000       5.000000"
      ]
     },
     "execution_count": 18,
     "metadata": {},
     "output_type": "execute_result"
    }
   ],
   "source": [
    "results_surf_kaze.describe()"
   ]
  }
 ],
 "metadata": {
  "kernelspec": {
   "display_name": "ML-Env-Py37-CVcontrib",
   "language": "python",
   "name": "ml-env-py37-cvcontrib"
  },
  "language_info": {
   "codemirror_mode": {
    "name": "ipython",
    "version": 3
   },
   "file_extension": ".py",
   "mimetype": "text/x-python",
   "name": "python",
   "nbconvert_exporter": "python",
   "pygments_lexer": "ipython3",
   "version": "3.7.3"
  }
 },
 "nbformat": 4,
 "nbformat_minor": 2
}
