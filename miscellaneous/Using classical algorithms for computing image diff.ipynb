{
 "cells": [
  {
   "cell_type": "markdown",
   "metadata": {},
   "source": [
    "## Comparing signatures images using classical algorithms\n",
    "\n",
    "In this notebook we use classical algorithms as, Difference, Mean Squared Error (MSE) and Structural Similarity Measure (SSM) for measuring how similar a pair of images are.\n",
    "\n",
    "We are using a data set with 10019 triplets. Each triplet is maded for a anchor, a positive and a negative image signature. \n",
    "\n",
    "**References:**   \n",
    "https://www.pyimagesearch.com/2014/09/15/python-compare-two-images/   \n",
    "https://scikit-image.org/docs/dev/api/skimage.measure.html"
   ]
  },
  {
   "cell_type": "code",
   "execution_count": 17,
   "metadata": {},
   "outputs": [
    {
     "name": "stdout",
     "output_type": "stream",
     "text": [
      "cv2 version: 4.1.0\n"
     ]
    }
   ],
   "source": [
    "import cv2\n",
    "import pandas as pd\n",
    "import numpy as np\n",
    "from tqdm import tqdm\n",
    "\n",
    "from skimage import measure\n",
    "\n",
    "from matplotlib import pyplot as plt\n",
    "\n",
    "print( \"cv2 version:\", cv2.__version__ )"
   ]
  },
  {
   "cell_type": "markdown",
   "metadata": {},
   "source": [
    "## Loading dataset"
   ]
  },
  {
   "cell_type": "code",
   "execution_count": 18,
   "metadata": {},
   "outputs": [
    {
     "name": "stdout",
     "output_type": "stream",
     "text": [
      "(10019, 3)\n"
     ]
    },
    {
     "data": {
      "text/html": [
       "<div>\n",
       "<style scoped>\n",
       "    .dataframe tbody tr th:only-of-type {\n",
       "        vertical-align: middle;\n",
       "    }\n",
       "\n",
       "    .dataframe tbody tr th {\n",
       "        vertical-align: top;\n",
       "    }\n",
       "\n",
       "    .dataframe thead th {\n",
       "        text-align: right;\n",
       "    }\n",
       "</style>\n",
       "<table border=\"1\" class=\"dataframe\">\n",
       "  <thead>\n",
       "    <tr style=\"text-align: right;\">\n",
       "      <th></th>\n",
       "      <th>Anchor</th>\n",
       "      <th>Positive</th>\n",
       "      <th>Negative</th>\n",
       "    </tr>\n",
       "  </thead>\n",
       "  <tbody>\n",
       "    <tr>\n",
       "      <th>0</th>\n",
       "      <td>original_45_3.png</td>\n",
       "      <td>original_45_19.png</td>\n",
       "      <td>forgeries_45_19.png</td>\n",
       "    </tr>\n",
       "    <tr>\n",
       "      <th>1</th>\n",
       "      <td>original_37_18.png</td>\n",
       "      <td>original_37_15.png</td>\n",
       "      <td>forgeries_37_15.png</td>\n",
       "    </tr>\n",
       "    <tr>\n",
       "      <th>2</th>\n",
       "      <td>original_24_11.png</td>\n",
       "      <td>original_24_24.png</td>\n",
       "      <td>forgeries_24_24.png</td>\n",
       "    </tr>\n",
       "    <tr>\n",
       "      <th>3</th>\n",
       "      <td>original_33_20.png</td>\n",
       "      <td>original_33_3.png</td>\n",
       "      <td>forgeries_33_3.png</td>\n",
       "    </tr>\n",
       "    <tr>\n",
       "      <th>4</th>\n",
       "      <td>original_2_9.png</td>\n",
       "      <td>original_2_22.png</td>\n",
       "      <td>forgeries_2_22.png</td>\n",
       "    </tr>\n",
       "  </tbody>\n",
       "</table>\n",
       "</div>"
      ],
      "text/plain": [
       "               Anchor            Positive             Negative\n",
       "0   original_45_3.png  original_45_19.png  forgeries_45_19.png\n",
       "1  original_37_18.png  original_37_15.png  forgeries_37_15.png\n",
       "2  original_24_11.png  original_24_24.png  forgeries_24_24.png\n",
       "3  original_33_20.png   original_33_3.png   forgeries_33_3.png\n",
       "4    original_2_9.png   original_2_22.png   forgeries_2_22.png"
      ]
     },
     "execution_count": 18,
     "metadata": {},
     "output_type": "execute_result"
    }
   ],
   "source": [
    "sample_signatures_df = pd.read_csv( '../dataset/signatures/X_test.csv' )\n",
    "print(sample_signatures_df.shape)\n",
    "sample_signatures_df.head()"
   ]
  },
  {
   "cell_type": "markdown",
   "metadata": {},
   "source": [
    "## Auxiliary methods"
   ]
  },
  {
   "cell_type": "code",
   "execution_count": 19,
   "metadata": {},
   "outputs": [],
   "source": [
    "def processing_image( image_path ):\n",
    "    \n",
    "    # Read image as grayscale\n",
    "    image = cv2.imread( image_path, cv2.IMREAD_GRAYSCALE )\n",
    "    \n",
    "    # Binarize image through Otsu's thresholding. \n",
    "    # Background will be back and signature will be white.\n",
    "    _, image_bin = cv2.threshold( image, 0, 255, cv2.THRESH_BINARY_INV + cv2.THRESH_OTSU )\n",
    "    \n",
    "    # Compute signature bounding box\n",
    "    points = cv2.findNonZero( image_bin )\n",
    "    x, y, w, h = cv2.boundingRect( points )\n",
    "    \n",
    "    # Crop image according to boundingbox\n",
    "    proc_image = image_bin[y:y+h, x:x+w]\n",
    "    \n",
    "    return proc_image"
   ]
  },
  {
   "cell_type": "code",
   "execution_count": 20,
   "metadata": {},
   "outputs": [],
   "source": [
    "def resize_key_imge( key_image, image ):\n",
    "    h, w = image.shape[:2]\n",
    "    return cv2.resize( key_image.copy(), (w, h) )"
   ]
  },
  {
   "cell_type": "code",
   "execution_count": 21,
   "metadata": {},
   "outputs": [],
   "source": [
    "def compute_diff( image_x, image_y ):\n",
    "    img_diff = np.absolute( image_x - image_y )\n",
    "    return img_diff.sum() / img_diff.size"
   ]
  },
  {
   "cell_type": "code",
   "execution_count": 22,
   "metadata": {},
   "outputs": [],
   "source": [
    "def compute_measures( img, sample ):\n",
    "    mse = measure.compare_mse( img, sample )\n",
    "    ssim = measure.compare_ssim( img, sample )\n",
    "    diff = compute_diff( img, sample )\n",
    "    return mse, ssim, diff"
   ]
  },
  {
   "cell_type": "code",
   "execution_count": 23,
   "metadata": {},
   "outputs": [],
   "source": [
    "def saving_results( df, anchor, positive, negative, pos_mse, neg_mse, pos_ssim, \n",
    "                    neg_ssim, pos_diff, neg_diff ):\n",
    "\n",
    "    df = df.append( {'Anchor'   : anchor, \n",
    "                     'Positive' : positive,\n",
    "                     'Negative' : negative,\n",
    "                     'Pos-MSE'  : pos_mse, \n",
    "                     'Neg-MSE'  : neg_mse,                 \n",
    "                     'Pos-SSIM' : pos_ssim, \n",
    "                     'Neg-SSIM' : neg_ssim,\n",
    "                     'Pos-DIFF' : pos_diff, \n",
    "                     'Neg-DIFF' : neg_diff\n",
    "                    }, ignore_index=True )\n",
    "    return df"
   ]
  },
  {
   "cell_type": "markdown",
   "metadata": {},
   "source": [
    "## Computing measures for signatures"
   ]
  },
  {
   "cell_type": "code",
   "execution_count": 24,
   "metadata": {},
   "outputs": [
    {
     "name": "stderr",
     "output_type": "stream",
     "text": [
      "10019it [11:16, 20.34it/s]\n"
     ]
    }
   ],
   "source": [
    "results_df = pd.DataFrame( columns = ['Anchor', 'Positive', 'Negative', \n",
    "                                      'Pos-MSE',  'Neg-MSE', \n",
    "                                      'Pos-SSIM', 'Neg-SSIM',\n",
    "                                      'Pos-DIFF', 'Neg-DIFF'] )\n",
    "\n",
    "genuine_signatures_path =  \"../dataset/signatures/full_org/\"\n",
    "forged_signatures_path = \"../dataset/signatures/full_forg/\"\n",
    "\n",
    "for index, row in tqdm( sample_signatures_df.iterrows() ): \n",
    "    \n",
    "    anchor   = processing_image( genuine_signatures_path + row[\"Anchor\"]   )\n",
    "    positive = processing_image( genuine_signatures_path + row[\"Positive\"] )\n",
    "    negative = processing_image( forged_signatures_path  + row[\"Negative\"] )\n",
    "           \n",
    "    # Making orignal signatures to the same size and computing measures\n",
    "    positive = resize_key_imge( positive, anchor )\n",
    "    pos_mse, pos_ssim, pos_diff = compute_measures( anchor, positive )\n",
    "        \n",
    "    # Making original and fake signatures to the same size and computing measures\n",
    "    negative = resize_key_imge( negative, anchor )\n",
    "    neg_mse, neg_ssim, neg_diff = compute_measures( anchor, negative )\n",
    "        \n",
    "    # Saving results on dataframe\n",
    "    results_df = saving_results( results_df, row[\"Anchor\"] , row[\"Positive\"], row[\"Negative\"], \n",
    "                                pos_mse, neg_mse, pos_ssim, neg_ssim, pos_diff, neg_diff )"
   ]
  },
  {
   "cell_type": "code",
   "execution_count": 25,
   "metadata": {},
   "outputs": [
    {
     "data": {
      "text/html": [
       "<div>\n",
       "<style scoped>\n",
       "    .dataframe tbody tr th:only-of-type {\n",
       "        vertical-align: middle;\n",
       "    }\n",
       "\n",
       "    .dataframe tbody tr th {\n",
       "        vertical-align: top;\n",
       "    }\n",
       "\n",
       "    .dataframe thead th {\n",
       "        text-align: right;\n",
       "    }\n",
       "</style>\n",
       "<table border=\"1\" class=\"dataframe\">\n",
       "  <thead>\n",
       "    <tr style=\"text-align: right;\">\n",
       "      <th></th>\n",
       "      <th>Anchor</th>\n",
       "      <th>Positive</th>\n",
       "      <th>Negative</th>\n",
       "      <th>Pos-MSE</th>\n",
       "      <th>Neg-MSE</th>\n",
       "      <th>Pos-SSIM</th>\n",
       "      <th>Neg-SSIM</th>\n",
       "      <th>Pos-DIFF</th>\n",
       "      <th>Neg-DIFF</th>\n",
       "    </tr>\n",
       "  </thead>\n",
       "  <tbody>\n",
       "    <tr>\n",
       "      <th>0</th>\n",
       "      <td>original_45_3.png</td>\n",
       "      <td>original_45_19.png</td>\n",
       "      <td>forgeries_45_19.png</td>\n",
       "      <td>5588.379274</td>\n",
       "      <td>4340.799234</td>\n",
       "      <td>0.777746</td>\n",
       "      <td>0.804608</td>\n",
       "      <td>13.555016</td>\n",
       "      <td>13.703727</td>\n",
       "    </tr>\n",
       "    <tr>\n",
       "      <th>1</th>\n",
       "      <td>original_37_18.png</td>\n",
       "      <td>original_37_15.png</td>\n",
       "      <td>forgeries_37_15.png</td>\n",
       "      <td>4510.534031</td>\n",
       "      <td>4073.482055</td>\n",
       "      <td>0.774235</td>\n",
       "      <td>0.793931</td>\n",
       "      <td>13.535334</td>\n",
       "      <td>12.092570</td>\n",
       "    </tr>\n",
       "    <tr>\n",
       "      <th>2</th>\n",
       "      <td>original_24_11.png</td>\n",
       "      <td>original_24_24.png</td>\n",
       "      <td>forgeries_24_24.png</td>\n",
       "      <td>7742.254214</td>\n",
       "      <td>5986.971231</td>\n",
       "      <td>0.666489</td>\n",
       "      <td>0.683065</td>\n",
       "      <td>17.678195</td>\n",
       "      <td>16.582469</td>\n",
       "    </tr>\n",
       "    <tr>\n",
       "      <th>3</th>\n",
       "      <td>original_33_20.png</td>\n",
       "      <td>original_33_3.png</td>\n",
       "      <td>forgeries_33_3.png</td>\n",
       "      <td>8797.857000</td>\n",
       "      <td>7044.113108</td>\n",
       "      <td>0.618207</td>\n",
       "      <td>0.653824</td>\n",
       "      <td>23.763392</td>\n",
       "      <td>21.475090</td>\n",
       "    </tr>\n",
       "    <tr>\n",
       "      <th>4</th>\n",
       "      <td>original_2_9.png</td>\n",
       "      <td>original_2_22.png</td>\n",
       "      <td>forgeries_2_22.png</td>\n",
       "      <td>7445.584172</td>\n",
       "      <td>10111.483064</td>\n",
       "      <td>0.661353</td>\n",
       "      <td>0.575846</td>\n",
       "      <td>21.249801</td>\n",
       "      <td>24.830718</td>\n",
       "    </tr>\n",
       "  </tbody>\n",
       "</table>\n",
       "</div>"
      ],
      "text/plain": [
       "               Anchor            Positive             Negative      Pos-MSE  \\\n",
       "0   original_45_3.png  original_45_19.png  forgeries_45_19.png  5588.379274   \n",
       "1  original_37_18.png  original_37_15.png  forgeries_37_15.png  4510.534031   \n",
       "2  original_24_11.png  original_24_24.png  forgeries_24_24.png  7742.254214   \n",
       "3  original_33_20.png   original_33_3.png   forgeries_33_3.png  8797.857000   \n",
       "4    original_2_9.png   original_2_22.png   forgeries_2_22.png  7445.584172   \n",
       "\n",
       "        Neg-MSE  Pos-SSIM  Neg-SSIM   Pos-DIFF   Neg-DIFF  \n",
       "0   4340.799234  0.777746  0.804608  13.555016  13.703727  \n",
       "1   4073.482055  0.774235  0.793931  13.535334  12.092570  \n",
       "2   5986.971231  0.666489  0.683065  17.678195  16.582469  \n",
       "3   7044.113108  0.618207  0.653824  23.763392  21.475090  \n",
       "4  10111.483064  0.661353  0.575846  21.249801  24.830718  "
      ]
     },
     "execution_count": 25,
     "metadata": {},
     "output_type": "execute_result"
    }
   ],
   "source": [
    "results_df.head()"
   ]
  },
  {
   "cell_type": "code",
   "execution_count": 26,
   "metadata": {},
   "outputs": [
    {
     "data": {
      "text/html": [
       "<div>\n",
       "<style scoped>\n",
       "    .dataframe tbody tr th:only-of-type {\n",
       "        vertical-align: middle;\n",
       "    }\n",
       "\n",
       "    .dataframe tbody tr th {\n",
       "        vertical-align: top;\n",
       "    }\n",
       "\n",
       "    .dataframe thead th {\n",
       "        text-align: right;\n",
       "    }\n",
       "</style>\n",
       "<table border=\"1\" class=\"dataframe\">\n",
       "  <thead>\n",
       "    <tr style=\"text-align: right;\">\n",
       "      <th></th>\n",
       "      <th>Pos-MSE</th>\n",
       "      <th>Neg-MSE</th>\n",
       "      <th>Pos-SSIM</th>\n",
       "      <th>Neg-SSIM</th>\n",
       "      <th>Pos-DIFF</th>\n",
       "      <th>Neg-DIFF</th>\n",
       "    </tr>\n",
       "  </thead>\n",
       "  <tbody>\n",
       "    <tr>\n",
       "      <th>count</th>\n",
       "      <td>10019.000000</td>\n",
       "      <td>10019.000000</td>\n",
       "      <td>10019.000000</td>\n",
       "      <td>10019.000000</td>\n",
       "      <td>10019.000000</td>\n",
       "      <td>10019.000000</td>\n",
       "    </tr>\n",
       "    <tr>\n",
       "      <th>mean</th>\n",
       "      <td>7039.810153</td>\n",
       "      <td>7111.320916</td>\n",
       "      <td>0.680507</td>\n",
       "      <td>0.667973</td>\n",
       "      <td>19.660967</td>\n",
       "      <td>20.315106</td>\n",
       "    </tr>\n",
       "    <tr>\n",
       "      <th>std</th>\n",
       "      <td>2504.794728</td>\n",
       "      <td>2232.973089</td>\n",
       "      <td>0.102057</td>\n",
       "      <td>0.099414</td>\n",
       "      <td>6.996541</td>\n",
       "      <td>7.136930</td>\n",
       "    </tr>\n",
       "    <tr>\n",
       "      <th>min</th>\n",
       "      <td>2076.925946</td>\n",
       "      <td>2311.475202</td>\n",
       "      <td>0.367628</td>\n",
       "      <td>0.363890</td>\n",
       "      <td>6.159959</td>\n",
       "      <td>6.031249</td>\n",
       "    </tr>\n",
       "    <tr>\n",
       "      <th>25%</th>\n",
       "      <td>4954.509563</td>\n",
       "      <td>5333.807801</td>\n",
       "      <td>0.601499</td>\n",
       "      <td>0.592427</td>\n",
       "      <td>13.938886</td>\n",
       "      <td>14.572514</td>\n",
       "    </tr>\n",
       "    <tr>\n",
       "      <th>50%</th>\n",
       "      <td>6789.764740</td>\n",
       "      <td>6974.110569</td>\n",
       "      <td>0.691556</td>\n",
       "      <td>0.675811</td>\n",
       "      <td>18.655609</td>\n",
       "      <td>19.322599</td>\n",
       "    </tr>\n",
       "    <tr>\n",
       "      <th>75%</th>\n",
       "      <td>8933.978417</td>\n",
       "      <td>8746.738390</td>\n",
       "      <td>0.763579</td>\n",
       "      <td>0.746493</td>\n",
       "      <td>24.824463</td>\n",
       "      <td>25.579388</td>\n",
       "    </tr>\n",
       "    <tr>\n",
       "      <th>max</th>\n",
       "      <td>15484.736135</td>\n",
       "      <td>14468.956101</td>\n",
       "      <td>0.886692</td>\n",
       "      <td>0.888259</td>\n",
       "      <td>43.350084</td>\n",
       "      <td>44.856583</td>\n",
       "    </tr>\n",
       "  </tbody>\n",
       "</table>\n",
       "</div>"
      ],
      "text/plain": [
       "            Pos-MSE       Neg-MSE      Pos-SSIM      Neg-SSIM      Pos-DIFF  \\\n",
       "count  10019.000000  10019.000000  10019.000000  10019.000000  10019.000000   \n",
       "mean    7039.810153   7111.320916      0.680507      0.667973     19.660967   \n",
       "std     2504.794728   2232.973089      0.102057      0.099414      6.996541   \n",
       "min     2076.925946   2311.475202      0.367628      0.363890      6.159959   \n",
       "25%     4954.509563   5333.807801      0.601499      0.592427     13.938886   \n",
       "50%     6789.764740   6974.110569      0.691556      0.675811     18.655609   \n",
       "75%     8933.978417   8746.738390      0.763579      0.746493     24.824463   \n",
       "max    15484.736135  14468.956101      0.886692      0.888259     43.350084   \n",
       "\n",
       "           Neg-DIFF  \n",
       "count  10019.000000  \n",
       "mean      20.315106  \n",
       "std        7.136930  \n",
       "min        6.031249  \n",
       "25%       14.572514  \n",
       "50%       19.322599  \n",
       "75%       25.579388  \n",
       "max       44.856583  "
      ]
     },
     "execution_count": 26,
     "metadata": {},
     "output_type": "execute_result"
    }
   ],
   "source": [
    "results_df.describe()"
   ]
  },
  {
   "cell_type": "code",
   "execution_count": null,
   "metadata": {},
   "outputs": [],
   "source": []
  },
  {
   "cell_type": "code",
   "execution_count": 27,
   "metadata": {},
   "outputs": [
    {
     "data": {
      "text/html": [
       "<div>\n",
       "<style scoped>\n",
       "    .dataframe tbody tr th:only-of-type {\n",
       "        vertical-align: middle;\n",
       "    }\n",
       "\n",
       "    .dataframe tbody tr th {\n",
       "        vertical-align: top;\n",
       "    }\n",
       "\n",
       "    .dataframe thead th {\n",
       "        text-align: right;\n",
       "    }\n",
       "</style>\n",
       "<table border=\"1\" class=\"dataframe\">\n",
       "  <thead>\n",
       "    <tr style=\"text-align: right;\">\n",
       "      <th></th>\n",
       "      <th>Anchor</th>\n",
       "      <th>Positive</th>\n",
       "      <th>Negative</th>\n",
       "      <th>Pos-MSE</th>\n",
       "      <th>Neg-MSE</th>\n",
       "      <th>Pos-SSIM</th>\n",
       "      <th>Neg-SSIM</th>\n",
       "      <th>Pos-DIFF</th>\n",
       "      <th>Neg-DIFF</th>\n",
       "    </tr>\n",
       "  </thead>\n",
       "  <tbody>\n",
       "    <tr>\n",
       "      <th>0</th>\n",
       "      <td>original_45_3.png</td>\n",
       "      <td>original_45_19.png</td>\n",
       "      <td>forgeries_45_19.png</td>\n",
       "      <td>5588.0</td>\n",
       "      <td>4341.0</td>\n",
       "      <td>1.0</td>\n",
       "      <td>1.0</td>\n",
       "      <td>14.0</td>\n",
       "      <td>14.0</td>\n",
       "    </tr>\n",
       "    <tr>\n",
       "      <th>1</th>\n",
       "      <td>original_37_18.png</td>\n",
       "      <td>original_37_15.png</td>\n",
       "      <td>forgeries_37_15.png</td>\n",
       "      <td>4511.0</td>\n",
       "      <td>4073.0</td>\n",
       "      <td>1.0</td>\n",
       "      <td>1.0</td>\n",
       "      <td>14.0</td>\n",
       "      <td>12.0</td>\n",
       "    </tr>\n",
       "    <tr>\n",
       "      <th>2</th>\n",
       "      <td>original_24_11.png</td>\n",
       "      <td>original_24_24.png</td>\n",
       "      <td>forgeries_24_24.png</td>\n",
       "      <td>7742.0</td>\n",
       "      <td>5987.0</td>\n",
       "      <td>1.0</td>\n",
       "      <td>1.0</td>\n",
       "      <td>18.0</td>\n",
       "      <td>17.0</td>\n",
       "    </tr>\n",
       "    <tr>\n",
       "      <th>3</th>\n",
       "      <td>original_33_20.png</td>\n",
       "      <td>original_33_3.png</td>\n",
       "      <td>forgeries_33_3.png</td>\n",
       "      <td>8798.0</td>\n",
       "      <td>7044.0</td>\n",
       "      <td>1.0</td>\n",
       "      <td>1.0</td>\n",
       "      <td>24.0</td>\n",
       "      <td>21.0</td>\n",
       "    </tr>\n",
       "    <tr>\n",
       "      <th>4</th>\n",
       "      <td>original_2_9.png</td>\n",
       "      <td>original_2_22.png</td>\n",
       "      <td>forgeries_2_22.png</td>\n",
       "      <td>7446.0</td>\n",
       "      <td>10111.0</td>\n",
       "      <td>1.0</td>\n",
       "      <td>1.0</td>\n",
       "      <td>21.0</td>\n",
       "      <td>25.0</td>\n",
       "    </tr>\n",
       "  </tbody>\n",
       "</table>\n",
       "</div>"
      ],
      "text/plain": [
       "               Anchor            Positive             Negative  Pos-MSE  \\\n",
       "0   original_45_3.png  original_45_19.png  forgeries_45_19.png   5588.0   \n",
       "1  original_37_18.png  original_37_15.png  forgeries_37_15.png   4511.0   \n",
       "2  original_24_11.png  original_24_24.png  forgeries_24_24.png   7742.0   \n",
       "3  original_33_20.png   original_33_3.png   forgeries_33_3.png   8798.0   \n",
       "4    original_2_9.png   original_2_22.png   forgeries_2_22.png   7446.0   \n",
       "\n",
       "   Neg-MSE  Pos-SSIM  Neg-SSIM  Pos-DIFF  Neg-DIFF  \n",
       "0   4341.0       1.0       1.0      14.0      14.0  \n",
       "1   4073.0       1.0       1.0      14.0      12.0  \n",
       "2   5987.0       1.0       1.0      18.0      17.0  \n",
       "3   7044.0       1.0       1.0      24.0      21.0  \n",
       "4  10111.0       1.0       1.0      21.0      25.0  "
      ]
     },
     "execution_count": 27,
     "metadata": {},
     "output_type": "execute_result"
    }
   ],
   "source": [
    "results_df = results_df.round(0)\n",
    "results_df.head()"
   ]
  },
  {
   "cell_type": "code",
   "execution_count": 37,
   "metadata": {},
   "outputs": [
    {
     "data": {
      "text/plain": [
       "array([[<matplotlib.axes._subplots.AxesSubplot object at 0x000001C5ABA0FF60>,\n",
       "        <matplotlib.axes._subplots.AxesSubplot object at 0x000001C5ABF1EEB8>]],\n",
       "      dtype=object)"
      ]
     },
     "execution_count": 37,
     "metadata": {},
     "output_type": "execute_result"
    },
    {
     "data": {
      "image/png": "[encoded data removed]",
      "text/plain": [
       "<Figure size 432x288 with 2 Axes>"
      ]
     },
     "metadata": {
      "needs_background": "light"
     },
     "output_type": "display_data"
    }
   ],
   "source": [
    "mse = results_df[ ['Pos-MSE', 'Neg-MSE'] ]\n",
    "mse.hist()"
   ]
  },
  {
   "cell_type": "code",
   "execution_count": 38,
   "metadata": {},
   "outputs": [
    {
     "data": {
      "text/plain": [
       "array([[<matplotlib.axes._subplots.AxesSubplot object at 0x000001C5ABF7F6D8>,\n",
       "        <matplotlib.axes._subplots.AxesSubplot object at 0x000001C5AB6701D0>]],\n",
       "      dtype=object)"
      ]
     },
     "execution_count": 38,
     "metadata": {},
     "output_type": "execute_result"
    },
    {
     "data": {
      "image/png": "[encoded data removed]",
      "text/plain": [
       "<Figure size 432x288 with 2 Axes>"
      ]
     },
     "metadata": {
      "needs_background": "light"
     },
     "output_type": "display_data"
    }
   ],
   "source": [
    "ssim = results_df[ ['Pos-SSIM', 'Neg-SSIM'] ]\n",
    "ssim.hist()"
   ]
  },
  {
   "cell_type": "code",
   "execution_count": 41,
   "metadata": {},
   "outputs": [
    {
     "data": {
      "text/plain": [
       "array([[<matplotlib.axes._subplots.AxesSubplot object at 0x000001C5AB6C8B70>,\n",
       "        <matplotlib.axes._subplots.AxesSubplot object at 0x000001C5AAD54E10>]],\n",
       "      dtype=object)"
      ]
     },
     "execution_count": 41,
     "metadata": {},
     "output_type": "execute_result"
    },
    {
     "data": {
      "image/png": "[encoded data removed]",
      "text/plain": [
       "<Figure size 432x288 with 2 Axes>"
      ]
     },
     "metadata": {
      "needs_background": "light"
     },
     "output_type": "display_data"
    }
   ],
   "source": [
    "diff = results_df[ ['Pos-DIFF', 'Neg-DIFF'] ]\n",
    "diff.hist()"
   ]
  },
  {
   "cell_type": "code",
   "execution_count": null,
   "metadata": {},
   "outputs": [],
   "source": []
  }
 ],
 "metadata": {
  "kernelspec": {
   "display_name": "Python (ML-Env)",
   "language": "python",
   "name": "ml-env_py37"
  },
  "language_info": {
   "codemirror_mode": {
    "name": "ipython",
    "version": 3
   },
   "file_extension": ".py",
   "mimetype": "text/x-python",
   "name": "python",
   "nbconvert_exporter": "python",
   "pygments_lexer": "ipython3",
   "version": "3.7.3"
  }
 },
 "nbformat": 4,
 "nbformat_minor": 2
}
