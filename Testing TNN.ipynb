{
 "cells": [
  {
   "cell_type": "markdown",
   "metadata": {},
   "source": [
    "## Generating embeddings using our TNN"
   ]
  },
  {
   "cell_type": "code",
   "execution_count": 7,
   "metadata": {},
   "outputs": [
    {
     "name": "stdout",
     "output_type": "stream",
     "text": [
      "Keras 2.2.4\n",
      "Tensorflow 2.0.0-beta1\n"
     ]
    }
   ],
   "source": [
    "import keras\n",
    "import tensorflow as tf\n",
    "\n",
    "print('Keras', keras.__version__)\n",
    "print('Tensorflow', tf.__version__)"
   ]
  },
  {
   "cell_type": "code",
   "execution_count": 13,
   "metadata": {},
   "outputs": [],
   "source": [
    "IMAGE_SHAPE = (128, 128)"
   ]
  },
  {
   "cell_type": "markdown",
   "metadata": {},
   "source": [
    "## Auxiliary methods"
   ]
  },
  {
   "cell_type": "markdown",
   "metadata": {},
   "source": [
    "**Method for processing input images**"
   ]
  },
  {
   "cell_type": "code",
   "execution_count": 16,
   "metadata": {},
   "outputs": [],
   "source": [
    "def processing_image( image_path, image_shape ):\n",
    "    \n",
    "    import cv2\n",
    "    \n",
    "    '''\n",
    "    Method for generating input image\n",
    "    Args:\n",
    "        image_path - full path for image\n",
    "        image_shape - tuple (w, h) with new image width and hight\n",
    "    Return:\n",
    "        processed_image - a binary image with size (w, h)\n",
    "    '''\n",
    "    # Read image as grayscale\n",
    "    image = cv2.imread( image_path, cv2.IMREAD_GRAYSCALE )\n",
    "    \n",
    "    # Binarize image through Otsu's thresholding. \n",
    "    # Background will be back and signature will be white.\n",
    "    _, image_bin = cv2.threshold( image, 0, 255, cv2.THRESH_BINARY_INV + cv2.THRESH_OTSU )\n",
    "    \n",
    "    # Compute signature bounding box\n",
    "    points = cv2.findNonZero( image_bin )\n",
    "    x, y, w, h = cv2.boundingRect( points )\n",
    "    \n",
    "    # Crop image according to boundingbox\n",
    "    proc_image = image_bin[y:y+h, x:x+w]\n",
    "    \n",
    "    resized_image = cv2.resize( proc_image, image_shape )\n",
    "    \n",
    "    return resized_image"
   ]
  },
  {
   "cell_type": "markdown",
   "metadata": {},
   "source": [
    "**Method for computing Euclidian distance between vectors (embedings)**"
   ]
  },
  {
   "cell_type": "code",
   "execution_count": 55,
   "metadata": {},
   "outputs": [],
   "source": [
    "def distance( embedings ):\n",
    "    \n",
    "    from sklearn.metrics.pairwise import euclidean_distances\n",
    "    \n",
    "    lenght = embedings.shape[-1]\n",
    "    \n",
    "    anchor   = embedings[:, 0               : int(lenght*1/3) ]\n",
    "    positive = embedings[:, int(lenght*1/3) : int(lenght*2/3) ]\n",
    "    negative = embedings[:, int(lenght*2/3) : int(lenght*3/3) ]\n",
    "    \n",
    "     # distance between the anchor and the positive\n",
    "    positive_dist = euclidean_distances(ancho, positive)\n",
    "\n",
    "    # distance between the anchor and the negative\n",
    "    negative_dist = euclidean_distances(anchor, negative)\n",
    "    \n",
    "    return positive_dist, negative_dist    "
   ]
  },
  {
   "cell_type": "markdown",
   "metadata": {},
   "source": [
    "## Loading model"
   ]
  },
  {
   "cell_type": "markdown",
   "metadata": {},
   "source": [
    "**Custom function**   \n",
    "When loading a model which we used a custom functin, we have to pass this function(s) in the load_model function."
   ]
  },
  {
   "cell_type": "code",
   "execution_count": 5,
   "metadata": {},
   "outputs": [],
   "source": [
    "def triplet_loss( labels, embedings, marging = 0.4 ):\n",
    "    \"\"\"\n",
    "    Implementation of the triplet loss function\n",
    "    Args:\n",
    "        labels -- true labels, required when you define a loss in Keras. In fact, we don't need it in this function.\n",
    "        embedings -- python list containing three objects:\n",
    "                  anchor   -- the embedings for the anchor data\n",
    "                  positive -- the embedings for the positive data (similar to anchor)\n",
    "                  negative -- the embedings for the negative data (different from anchor)\n",
    "    Returns:\n",
    "    loss -- real number, value of the loss\n",
    "    \"\"\"\n",
    "    lenght = embedings.shape[-1]\n",
    "    \n",
    "    anchor   = embedings[:, 0               : int(lenght*1/3) ]\n",
    "    positive = embedings[:, int(lenght*1/3) : int(lenght*2/3) ]\n",
    "    negative = embedings[:, int(lenght*2/3) : int(lenght*3/3) ]\n",
    "\n",
    "    # distance between the anchor and the positive\n",
    "    positive_dist = K.sum( K.square(anchor - positive), axis = 1 )\n",
    "\n",
    "    # distance between the anchor and the negative\n",
    "    negative_dist = K.sum( K.square(anchor - negative), axis = 1 )\n",
    "\n",
    "    # compute loss\n",
    "    loss = K.maximum( (positive_dist - negative_dist + marging), 0.0 )\n",
    " \n",
    "    return loss"
   ]
  },
  {
   "cell_type": "markdown",
   "metadata": {},
   "source": [
    "**Loading model and printing its summary**"
   ]
  },
  {
   "cell_type": "code",
   "execution_count": 8,
   "metadata": {},
   "outputs": [
    {
     "name": "stderr",
     "output_type": "stream",
     "text": [
      "WARNING: Logging before flag parsing goes to stderr.\n",
      "W0718 12:48:08.989509 11908 deprecation.py:323] From C:\\Users\\gefausti\\AppData\\Local\\Continuum\\anaconda3\\envs\\ML-Env-Py37\\lib\\site-packages\\tensorflow\\python\\ops\\math_grad.py:1250: add_dispatch_support.<locals>.wrapper (from tensorflow.python.ops.array_ops) is deprecated and will be removed in a future version.\n",
      "Instructions for updating:\n",
      "Use tf.where in 2.0, which has the same broadcast rule as np.where\n"
     ]
    },
    {
     "name": "stdout",
     "output_type": "stream",
     "text": [
      "Model: \"model\"\n",
      "__________________________________________________________________________________________________\n",
      "Layer (type)                    Output Shape         Param #     Connected to                     \n",
      "==================================================================================================\n",
      "anchor_input (InputLayer)       [(None, 128, 128, 1) 0                                            \n",
      "__________________________________________________________________________________________________\n",
      "positive_input (InputLayer)     [(None, 128, 128, 1) 0                                            \n",
      "__________________________________________________________________________________________________\n",
      "negative_input (InputLayer)     [(None, 128, 128, 1) 0                                            \n",
      "__________________________________________________________________________________________________\n",
      "sequential (Sequential)         (None, 128)          70399616    anchor_input[0][0]               \n",
      "                                                                 positive_input[0][0]             \n",
      "                                                                 negative_input[0][0]             \n",
      "__________________________________________________________________________________________________\n",
      "merged_layer (Concatenate)      (None, 384)          0           sequential[1][0]                 \n",
      "                                                                 sequential[2][0]                 \n",
      "                                                                 sequential[3][0]                 \n",
      "==================================================================================================\n",
      "Total params: 70,399,616\n",
      "Trainable params: 70,399,360\n",
      "Non-trainable params: 256\n",
      "__________________________________________________________________________________________________\n"
     ]
    }
   ],
   "source": [
    "from tensorflow.keras.models import load_model\n",
    "from tensorflow.keras import backend as K\n",
    "\n",
    "# load model.\n",
    "# We have to pass the custom functions in the load_model function\n",
    "model = load_model( 'trained_model.h5', custom_objects={'triplet_loss': triplet_loss} )\n",
    "\n",
    "# summarize model.\n",
    "model.summary()"
   ]
  },
  {
   "cell_type": "markdown",
   "metadata": {},
   "source": [
    "## Loading data"
   ]
  },
  {
   "cell_type": "code",
   "execution_count": 36,
   "metadata": {},
   "outputs": [
    {
     "name": "stdout",
     "output_type": "stream",
     "text": [
      "(10019, 3)\n"
     ]
    },
    {
     "data": {
      "text/html": [
       "<div>\n",
       "<style scoped>\n",
       "    .dataframe tbody tr th:only-of-type {\n",
       "        vertical-align: middle;\n",
       "    }\n",
       "\n",
       "    .dataframe tbody tr th {\n",
       "        vertical-align: top;\n",
       "    }\n",
       "\n",
       "    .dataframe thead th {\n",
       "        text-align: right;\n",
       "    }\n",
       "</style>\n",
       "<table border=\"1\" class=\"dataframe\">\n",
       "  <thead>\n",
       "    <tr style=\"text-align: right;\">\n",
       "      <th></th>\n",
       "      <th>Anchor</th>\n",
       "      <th>Positive</th>\n",
       "      <th>Negative</th>\n",
       "    </tr>\n",
       "  </thead>\n",
       "  <tbody>\n",
       "    <tr>\n",
       "      <th>0</th>\n",
       "      <td>original_45_3.png</td>\n",
       "      <td>original_45_19.png</td>\n",
       "      <td>forgeries_45_19.png</td>\n",
       "    </tr>\n",
       "    <tr>\n",
       "      <th>1</th>\n",
       "      <td>original_37_18.png</td>\n",
       "      <td>original_37_15.png</td>\n",
       "      <td>forgeries_37_15.png</td>\n",
       "    </tr>\n",
       "    <tr>\n",
       "      <th>2</th>\n",
       "      <td>original_24_11.png</td>\n",
       "      <td>original_24_24.png</td>\n",
       "      <td>forgeries_24_24.png</td>\n",
       "    </tr>\n",
       "    <tr>\n",
       "      <th>3</th>\n",
       "      <td>original_33_20.png</td>\n",
       "      <td>original_33_3.png</td>\n",
       "      <td>forgeries_33_3.png</td>\n",
       "    </tr>\n",
       "    <tr>\n",
       "      <th>4</th>\n",
       "      <td>original_2_9.png</td>\n",
       "      <td>original_2_22.png</td>\n",
       "      <td>forgeries_2_22.png</td>\n",
       "    </tr>\n",
       "  </tbody>\n",
       "</table>\n",
       "</div>"
      ],
      "text/plain": [
       "               Anchor            Positive             Negative\n",
       "0   original_45_3.png  original_45_19.png  forgeries_45_19.png\n",
       "1  original_37_18.png  original_37_15.png  forgeries_37_15.png\n",
       "2  original_24_11.png  original_24_24.png  forgeries_24_24.png\n",
       "3  original_33_20.png   original_33_3.png   forgeries_33_3.png\n",
       "4    original_2_9.png   original_2_22.png   forgeries_2_22.png"
      ]
     },
     "execution_count": 36,
     "metadata": {},
     "output_type": "execute_result"
    }
   ],
   "source": [
    "import pandas as pd\n",
    "testing_sign = pd.read_csv( '../../dataset/signatures/X_test.csv' )\n",
    "print( testing_sign.shape )\n",
    "testing_sign.head()"
   ]
  },
  {
   "cell_type": "code",
   "execution_count": 37,
   "metadata": {},
   "outputs": [],
   "source": [
    "genuine_signatures_path = '../../dataset/signatures/full_org/'\n",
    "forged_signatures_path = '../../dataset/signatures/full_forg/'"
   ]
  },
  {
   "cell_type": "code",
   "execution_count": 43,
   "metadata": {},
   "outputs": [
    {
     "name": "stderr",
     "output_type": "stream",
     "text": [
      "10019it [3:54:48,  1.33it/s] \n"
     ]
    }
   ],
   "source": [
    "from tqdm import tqdm\n",
    "\n",
    "results_df = pd.DataFrame( columns = ['PositiveDistances', 'NegativeDistances'] )\n",
    "\n",
    "for index, row in tqdm( testing_sign.iterrows() ):\n",
    "\n",
    "    anchor = processing_image( genuine_signatures_path + row['Anchor'], IMAGE_SHAPE )   \n",
    "    positive = processing_image( genuine_signatures_path + row['Positive'], IMAGE_SHAPE )   \n",
    "    negative = processing_image( forged_signatures_path + row['Negative'], IMAGE_SHAPE )   \n",
    "\n",
    "    anchor = anchor / 255.\n",
    "    positive = positive / 255.\n",
    "    negative = negative / 255.\n",
    "    \n",
    "    embedings = model.predict( [ anchor.reshape(-1, IMAGE_SHAPE[0], IMAGE_SHAPE[1], 1) ,\n",
    "                                 positive.reshape(-1, IMAGE_SHAPE[0], IMAGE_SHAPE[1], 1),\n",
    "                                 negative.reshape(-1, IMAGE_SHAPE[0], IMAGE_SHAPE[1], 1) ] )\n",
    "    \n",
    "    p_dist, n_dist = distance( embedings )\n",
    "    \n",
    "    results_df = results_df.append( { 'PositiveDistances' : round( p_dist[0][0], 2 ),\n",
    "                                      'NegativeDistances' : round( n_dist[0][0], 2 )\n",
    "                                    }, ignore_index=True )"
   ]
  },
  {
   "cell_type": "code",
   "execution_count": 46,
   "metadata": {},
   "outputs": [
    {
     "data": {
      "text/html": [
       "<div>\n",
       "<style scoped>\n",
       "    .dataframe tbody tr th:only-of-type {\n",
       "        vertical-align: middle;\n",
       "    }\n",
       "\n",
       "    .dataframe tbody tr th {\n",
       "        vertical-align: top;\n",
       "    }\n",
       "\n",
       "    .dataframe thead th {\n",
       "        text-align: right;\n",
       "    }\n",
       "</style>\n",
       "<table border=\"1\" class=\"dataframe\">\n",
       "  <thead>\n",
       "    <tr style=\"text-align: right;\">\n",
       "      <th></th>\n",
       "      <th>PositiveDistances</th>\n",
       "      <th>NegativeDistances</th>\n",
       "    </tr>\n",
       "  </thead>\n",
       "  <tbody>\n",
       "    <tr>\n",
       "      <th>count</th>\n",
       "      <td>10019.000000</td>\n",
       "      <td>10019.000000</td>\n",
       "    </tr>\n",
       "    <tr>\n",
       "      <th>mean</th>\n",
       "      <td>2.660647</td>\n",
       "      <td>5.543197</td>\n",
       "    </tr>\n",
       "    <tr>\n",
       "      <th>std</th>\n",
       "      <td>1.046132</td>\n",
       "      <td>2.105239</td>\n",
       "    </tr>\n",
       "    <tr>\n",
       "      <th>min</th>\n",
       "      <td>0.620000</td>\n",
       "      <td>1.210000</td>\n",
       "    </tr>\n",
       "    <tr>\n",
       "      <th>25%</th>\n",
       "      <td>1.810000</td>\n",
       "      <td>3.920000</td>\n",
       "    </tr>\n",
       "    <tr>\n",
       "      <th>50%</th>\n",
       "      <td>2.560000</td>\n",
       "      <td>5.610000</td>\n",
       "    </tr>\n",
       "    <tr>\n",
       "      <th>75%</th>\n",
       "      <td>3.400000</td>\n",
       "      <td>7.025000</td>\n",
       "    </tr>\n",
       "    <tr>\n",
       "      <th>max</th>\n",
       "      <td>7.040000</td>\n",
       "      <td>13.750000</td>\n",
       "    </tr>\n",
       "  </tbody>\n",
       "</table>\n",
       "</div>"
      ],
      "text/plain": [
       "       PositiveDistances  NegativeDistances\n",
       "count       10019.000000       10019.000000\n",
       "mean            2.660647           5.543197\n",
       "std             1.046132           2.105239\n",
       "min             0.620000           1.210000\n",
       "25%             1.810000           3.920000\n",
       "50%             2.560000           5.610000\n",
       "75%             3.400000           7.025000\n",
       "max             7.040000          13.750000"
      ]
     },
     "execution_count": 46,
     "metadata": {},
     "output_type": "execute_result"
    }
   ],
   "source": [
    "results_df.describe()"
   ]
  },
  {
   "cell_type": "markdown",
   "metadata": {},
   "source": [
    "**Saving results**"
   ]
  },
  {
   "cell_type": "code",
   "execution_count": 47,
   "metadata": {},
   "outputs": [],
   "source": [
    "results_df.to_csv( 'signatures_similarity_tnn.csv' ,  index='False' )"
   ]
  },
  {
   "cell_type": "markdown",
   "metadata": {},
   "source": [
    "## Testing it in another dataset"
   ]
  },
  {
   "cell_type": "code",
   "execution_count": 49,
   "metadata": {},
   "outputs": [
    {
     "data": {
      "text/html": [
       "<div>\n",
       "<style scoped>\n",
       "    .dataframe tbody tr th:only-of-type {\n",
       "        vertical-align: middle;\n",
       "    }\n",
       "\n",
       "    .dataframe tbody tr th {\n",
       "        vertical-align: top;\n",
       "    }\n",
       "\n",
       "    .dataframe thead th {\n",
       "        text-align: right;\n",
       "    }\n",
       "</style>\n",
       "<table border=\"1\" class=\"dataframe\">\n",
       "  <thead>\n",
       "    <tr style=\"text-align: right;\">\n",
       "      <th></th>\n",
       "      <th>PersonID</th>\n",
       "      <th>GenuineSignature</th>\n",
       "      <th>ForgedSignature</th>\n",
       "    </tr>\n",
       "  </thead>\n",
       "  <tbody>\n",
       "    <tr>\n",
       "      <th>0</th>\n",
       "      <td>1</td>\n",
       "      <td>NFI-00101001.png,NFI-00102001.png,NFI-00103001...</td>\n",
       "      <td>NFI-00301001.png,NFI-00302001.png,NFI-00303001...</td>\n",
       "    </tr>\n",
       "    <tr>\n",
       "      <th>1</th>\n",
       "      <td>2</td>\n",
       "      <td>NFI-00201002.png,NFI-00202002.png,NFI-00203002...</td>\n",
       "      <td>NFI-00301002.png,NFI-00302002.png,NFI-00303002...</td>\n",
       "    </tr>\n",
       "    <tr>\n",
       "      <th>2</th>\n",
       "      <td>3</td>\n",
       "      <td>NFI-00301003.png,NFI-00302003.png,NFI-00303003...</td>\n",
       "      <td>NFI-00401003.png,NFI-00402003.png,NFI-00403003...</td>\n",
       "    </tr>\n",
       "    <tr>\n",
       "      <th>3</th>\n",
       "      <td>4</td>\n",
       "      <td>NFI-00401004.png,NFI-00402004.png,NFI-00403004...</td>\n",
       "      <td>NFI-08801004.png,NFI-08802004.png,NFI-08803004...</td>\n",
       "    </tr>\n",
       "    <tr>\n",
       "      <th>4</th>\n",
       "      <td>5</td>\n",
       "      <td>NFI-00501005.png,NFI-00502005.png,NFI-00503005...</td>\n",
       "      <td>NFI-00301005.png,NFI-00302005.png,NFI-00303005...</td>\n",
       "    </tr>\n",
       "  </tbody>\n",
       "</table>\n",
       "</div>"
      ],
      "text/plain": [
       "   PersonID                                   GenuineSignature  \\\n",
       "0         1  NFI-00101001.png,NFI-00102001.png,NFI-00103001...   \n",
       "1         2  NFI-00201002.png,NFI-00202002.png,NFI-00203002...   \n",
       "2         3  NFI-00301003.png,NFI-00302003.png,NFI-00303003...   \n",
       "3         4  NFI-00401004.png,NFI-00402004.png,NFI-00403004...   \n",
       "4         5  NFI-00501005.png,NFI-00502005.png,NFI-00503005...   \n",
       "\n",
       "                                     ForgedSignature  \n",
       "0  NFI-00301001.png,NFI-00302001.png,NFI-00303001...  \n",
       "1  NFI-00301002.png,NFI-00302002.png,NFI-00303002...  \n",
       "2  NFI-00401003.png,NFI-00402003.png,NFI-00403003...  \n",
       "3  NFI-08801004.png,NFI-08802004.png,NFI-08803004...  \n",
       "4  NFI-00301005.png,NFI-00302005.png,NFI-00303005...  "
      ]
     },
     "execution_count": 49,
     "metadata": {},
     "output_type": "execute_result"
    }
   ],
   "source": [
    "sample_signatures_df = pd.read_csv( '../../dataset/sample_Signature/sample_signatures.csv' )\n",
    "sample_signatures_df.head()"
   ]
  },
  {
   "cell_type": "code",
   "execution_count": 53,
   "metadata": {},
   "outputs": [
    {
     "name": "stderr",
     "output_type": "stream",
     "text": [
      "100%|██████████████████████████████████████████████████████████████████████████████████| 30/30 [01:40<00:00,  4.45s/it]\n"
     ]
    }
   ],
   "source": [
    "results_2_df = pd.DataFrame( columns = ['PersonID', 'PositiveDistances', 'NegativeDistances'] )\n",
    "\n",
    "genuine_img_path = '../../dataset/sample_Signature/genuine/'\n",
    "forged_img_path = '../../dataset/sample_Signature/forged/'\n",
    "\n",
    "for idx in tqdm(sample_signatures_df.index):\n",
    "    \n",
    "    genuine_signatures = sample_signatures_df.loc[ idx, 'GenuineSignature'].split(',')\n",
    "    forged_signatures = sample_signatures_df.loc[ idx, 'ForgedSignature'].split(',')\n",
    "    \n",
    "    anchor = processing_image( genuine_img_path + genuine_signatures[0], IMAGE_SHAPE )\n",
    "        \n",
    "    for positive, negative in zip(genuine_signatures[1:], forged_signatures[1:]):\n",
    "        \n",
    "        positive = processing_image( genuine_img_path + positive, IMAGE_SHAPE) \n",
    "        negative = processing_image( forged_img_path + negative, IMAGE_SHAPE )\n",
    "        \n",
    "        embedings = model.predict( [ anchor.reshape(-1, IMAGE_SHAPE[0], IMAGE_SHAPE[1], 1) ,\n",
    "                                     positive.reshape(-1, IMAGE_SHAPE[0], IMAGE_SHAPE[1], 1),\n",
    "                                     negative.reshape(-1, IMAGE_SHAPE[0], IMAGE_SHAPE[1], 1) ] )\n",
    "        \n",
    "        p_dist, n_dist = distance( embedings )\n",
    "        \n",
    "        results_2_df = results_2_df.append( {'PersonID' : idx+1, \n",
    "                                             'PositiveDistances' : round(p_dist[0][0], 2), \n",
    "                                             'NegativeDistances' : round(n_dist[0][0], 2)\n",
    "                                             }, ignore_index=True )"
   ]
  },
  {
   "cell_type": "code",
   "execution_count": 54,
   "metadata": {},
   "outputs": [
    {
     "data": {
      "text/html": [
       "<div>\n",
       "<style scoped>\n",
       "    .dataframe tbody tr th:only-of-type {\n",
       "        vertical-align: middle;\n",
       "    }\n",
       "\n",
       "    .dataframe tbody tr th {\n",
       "        vertical-align: top;\n",
       "    }\n",
       "\n",
       "    .dataframe thead th {\n",
       "        text-align: right;\n",
       "    }\n",
       "</style>\n",
       "<table border=\"1\" class=\"dataframe\">\n",
       "  <thead>\n",
       "    <tr style=\"text-align: right;\">\n",
       "      <th></th>\n",
       "      <th>PersonID</th>\n",
       "      <th>PositiveDistances</th>\n",
       "      <th>NegativeDistances</th>\n",
       "    </tr>\n",
       "  </thead>\n",
       "  <tbody>\n",
       "    <tr>\n",
       "      <th>count</th>\n",
       "      <td>119.000000</td>\n",
       "      <td>119.000000</td>\n",
       "      <td>119.000000</td>\n",
       "    </tr>\n",
       "    <tr>\n",
       "      <th>mean</th>\n",
       "      <td>15.546218</td>\n",
       "      <td>1628.456135</td>\n",
       "      <td>1905.500340</td>\n",
       "    </tr>\n",
       "    <tr>\n",
       "      <th>std</th>\n",
       "      <td>8.713663</td>\n",
       "      <td>927.667119</td>\n",
       "      <td>967.386199</td>\n",
       "    </tr>\n",
       "    <tr>\n",
       "      <th>min</th>\n",
       "      <td>1.000000</td>\n",
       "      <td>275.220001</td>\n",
       "      <td>257.579987</td>\n",
       "    </tr>\n",
       "    <tr>\n",
       "      <th>25%</th>\n",
       "      <td>8.000000</td>\n",
       "      <td>939.495026</td>\n",
       "      <td>1163.175049</td>\n",
       "    </tr>\n",
       "    <tr>\n",
       "      <th>50%</th>\n",
       "      <td>16.000000</td>\n",
       "      <td>1328.079956</td>\n",
       "      <td>1758.000000</td>\n",
       "    </tr>\n",
       "    <tr>\n",
       "      <th>75%</th>\n",
       "      <td>23.000000</td>\n",
       "      <td>2158.869995</td>\n",
       "      <td>2563.644897</td>\n",
       "    </tr>\n",
       "    <tr>\n",
       "      <th>max</th>\n",
       "      <td>30.000000</td>\n",
       "      <td>4438.839844</td>\n",
       "      <td>4149.470215</td>\n",
       "    </tr>\n",
       "  </tbody>\n",
       "</table>\n",
       "</div>"
      ],
      "text/plain": [
       "         PersonID  PositiveDistances  NegativeDistances\n",
       "count  119.000000         119.000000         119.000000\n",
       "mean    15.546218        1628.456135        1905.500340\n",
       "std      8.713663         927.667119         967.386199\n",
       "min      1.000000         275.220001         257.579987\n",
       "25%      8.000000         939.495026        1163.175049\n",
       "50%     16.000000        1328.079956        1758.000000\n",
       "75%     23.000000        2158.869995        2563.644897\n",
       "max     30.000000        4438.839844        4149.470215"
      ]
     },
     "execution_count": 54,
     "metadata": {},
     "output_type": "execute_result"
    }
   ],
   "source": [
    "results_2_df.describe()"
   ]
  },
  {
   "cell_type": "code",
   "execution_count": null,
   "metadata": {},
   "outputs": [],
   "source": []
  }
 ],
 "metadata": {
  "kernelspec": {
   "display_name": "Python 3",
   "language": "python",
   "name": "python3"
  },
  "language_info": {
   "codemirror_mode": {
    "name": "ipython",
    "version": 3
   },
   "file_extension": ".py",
   "mimetype": "text/x-python",
   "name": "python",
   "nbconvert_exporter": "python",
   "pygments_lexer": "ipython3",
   "version": "3.7.3"
  }
 },
 "nbformat": 4,
 "nbformat_minor": 2
}
